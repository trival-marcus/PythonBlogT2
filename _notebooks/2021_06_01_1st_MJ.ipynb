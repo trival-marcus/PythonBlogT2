{
  "nbformat": 4,
  "nbformat_minor": 0,
  "metadata": {
    "colab": {
      "name": "2021-06-01-1팀-장민준.ipynb",
      "provenance": [],
      "collapsed_sections": [],
      "include_colab_link": true
    },
    "kernelspec": {
      "name": "python3",
      "display_name": "Python 3"
    },
    "language_info": {
      "name": "python"
    }
  },
  "cells": [
    {
      "cell_type": "markdown",
      "metadata": {
        "id": "view-in-github",
        "colab_type": "text"
      },
      "source": [
        "<a href=\"https://colab.research.google.com/github/trival-marcus/PythonBlog/blob/master/_notebooks/2021_06_01_1%ED%8C%80_%EC%9E%A5%EB%AF%BC%EC%A4%80.ipynb\" target=\"_parent\"><img src=\"https://colab.research.google.com/assets/colab-badge.svg\" alt=\"Open In Colab\"/></a>"
      ]
    },
    {
      "cell_type": "markdown",
      "metadata": {
        "id": "j91lb0eBtmge"
      },
      "source": [
        "# ※ 복습"
      ]
    },
    {
      "cell_type": "markdown",
      "metadata": {
        "id": "J6cFJmIFvZS2"
      },
      "source": [
        "## ① 집합"
      ]
    },
    {
      "cell_type": "code",
      "metadata": {
        "id": "5Sna0Hy9tg-W"
      },
      "source": [
        ""
      ],
      "execution_count": null,
      "outputs": []
    },
    {
      "cell_type": "code",
      "metadata": {
        "id": "c4GBZeCxvsvO"
      },
      "source": [
        ""
      ],
      "execution_count": null,
      "outputs": []
    },
    {
      "cell_type": "markdown",
      "metadata": {
        "id": "o9pzu9vatmys"
      },
      "source": [
        "## ②  "
      ]
    },
    {
      "cell_type": "code",
      "metadata": {
        "id": "_rXiWXP4tnFN"
      },
      "source": [
        ""
      ],
      "execution_count": null,
      "outputs": []
    },
    {
      "cell_type": "code",
      "metadata": {
        "id": "wm8WwVOgtndE"
      },
      "source": [
        ""
      ],
      "execution_count": null,
      "outputs": []
    },
    {
      "cell_type": "markdown",
      "metadata": {
        "id": "n_tuqGGGtnuc"
      },
      "source": [
        "# 1. 반복문"
      ]
    },
    {
      "cell_type": "markdown",
      "metadata": {
        "id": "XmnIxXIKu-rN"
      },
      "source": [
        "## 1) for문"
      ]
    },
    {
      "cell_type": "markdown",
      "metadata": {
        "id": "UBwtXH3nz7eW"
      },
      "source": [
        "### for문의 세가지 생성방법"
      ]
    },
    {
      "cell_type": "code",
      "metadata": {
        "colab": {
          "base_uri": "https://localhost:8080/"
        },
        "id": "bZGKQae4toBc",
        "outputId": "35e5b30e-b957-41c0-89a7-5e6a41ea2d24"
      },
      "source": [
        "# for문의 세가지 생성방법\n",
        "\n",
        "#1. 리스트를 시퀀스로 갖는 반복문\n",
        "for i in [1,2,3,4,5,8,8]:\n",
        "    print(i)\n",
        "\n",
        "print('-'*50)\n",
        "\n",
        "#2. 문자열을 시퀀스로 갖는 반복문\n",
        "for i in 'python':\n",
        "    print(i)\n",
        "\n",
        "print('-'*50)\n",
        "\n",
        "#3. range를 통해 시퀀스를 받는 반복문\n",
        "for i in range(5):\n",
        "    print(i)"
      ],
      "execution_count": null,
      "outputs": [
        {
          "output_type": "stream",
          "text": [
            "1\n",
            "2\n",
            "3\n",
            "4\n",
            "5\n",
            "8\n",
            "8\n",
            "--------------------------------------------------\n",
            "p\n",
            "y\n",
            "t\n",
            "h\n",
            "o\n",
            "n\n",
            "--------------------------------------------------\n",
            "0\n",
            "1\n",
            "2\n",
            "3\n",
            "4\n"
          ],
          "name": "stdout"
        }
      ]
    },
    {
      "cell_type": "code",
      "metadata": {
        "colab": {
          "base_uri": "https://localhost:8080/"
        },
        "id": "QmRD-HguvTgl",
        "outputId": "e895f66c-3002-4f21-b1d5-37c8c03a7563"
      },
      "source": [
        "# range를 사용한 for문\n",
        "\n",
        "#1. 줄바꿈 없이 출력\n",
        "for i in range(5):\n",
        "    print(i, end='')\n",
        "\n",
        "print('')\n",
        "print('-'*50)\n",
        "\n",
        "#2. 줄바꿈없이 1부터 6까지 출력.\n",
        "for i in range(1, 6):\n",
        "    print(i, end='')\n",
        "\n",
        "print('')\n",
        "print('-'*50)\n",
        "\n",
        "#3. 탭을 누른만큼 띄어쓰기 해서 출력하기\n",
        "for i in range(1,10,2):\n",
        "    print(i, end='\\t')        # end = '\\t' 는 줄이 바뀌지 않고 탭간격으로 출력.\n",
        "\n",
        "print('')\n",
        "print('-'*50)\n",
        "\n",
        "#4. 역순 range. 음수의 range도 가능하다.\n",
        "for i in range(10,0,-2):\n",
        "    print(i, end='\\t')\n"
      ],
      "execution_count": null,
      "outputs": [
        {
          "output_type": "stream",
          "text": [
            "01234\n",
            "--------------------------------------------------\n",
            "12345\n",
            "--------------------------------------------------\n",
            "1\t3\t5\t7\t9\t\n",
            "--------------------------------------------------\n",
            "10\t8\t6\t4\t2\t"
          ],
          "name": "stdout"
        }
      ]
    },
    {
      "cell_type": "code",
      "metadata": {
        "id": "-jghx56z1-Xw"
      },
      "source": [
        "# 오류\n",
        "\n",
        "for i in range(0,10,-2):\n",
        "    print(i, end='\\t')      # 이건 안됨. 범위밖의 값을 부르려 하고있으니 안되는거다."
      ],
      "execution_count": null,
      "outputs": []
    },
    {
      "cell_type": "code",
      "metadata": {
        "colab": {
          "base_uri": "https://localhost:8080/"
        },
        "id": "85wWk6bM1_LW",
        "outputId": "3197bcb8-631f-49ec-d7a1-903a853bc0e3"
      },
      "source": [
        "# 예시. Hello World 반복출력하기\n",
        "\n",
        "for i in range(3):\n",
        "    print('Hello World!!', end=' ')"
      ],
      "execution_count": null,
      "outputs": [
        {
          "output_type": "stream",
          "text": [
            "Hello World!! Hello World!! Hello World!! "
          ],
          "name": "stdout"
        }
      ]
    },
    {
      "cell_type": "markdown",
      "metadata": {
        "id": "VJv4LGclvG39"
      },
      "source": [
        "## 2) while문\n",
        "조건식의 결과가 True인 동안 반복됨.\n",
        "\n",
        "False가 되면 반복을 빠져나온다.\n",
        "- 꼭 False값이 되어 반복문 빠져나오는 구조가 필요하다."
      ]
    },
    {
      "cell_type": "code",
      "metadata": {
        "colab": {
          "base_uri": "https://localhost:8080/"
        },
        "id": "2ZxIc5gJtoSn",
        "outputId": "937602b3-4d27-4140-b566-fcefafeb9e9e"
      },
      "source": [
        "# while문\n",
        "i = 1\n",
        "while i<=5 :                #i가 5보다 작거나 같은 값 '까지만' 출력한다. 그러나 6은 while문을 빠져나가버려서 출력이 안됨.\n",
        "    print(i, end=' ')\n",
        "    i = i+1\n",
        "\n",
        "print('')\n",
        "print('-'*50)\n",
        "\n",
        "#-----------------------------------------------------------------------------\n",
        "# while문 위 문장의 바리에이션\n",
        "i = 0\n",
        "while i<=5 :\n",
        "    i = i+1\n",
        "    print(i, end=' ')\n",
        "\n",
        "print('')\n",
        "print('-'*50)\n",
        "\n",
        "#-----------------------------------------------------------------------------\n",
        "# for문\n",
        "i = 1\n",
        "for i in range(1,6):\n",
        "    print(i, end=' ')"
      ],
      "execution_count": null,
      "outputs": [
        {
          "output_type": "stream",
          "text": [
            "1 2 3 4 5 \n",
            "--------------------------------------------------\n",
            "1 2 3 4 5 6 \n",
            "--------------------------------------------------\n",
            "1 2 3 4 5 "
          ],
          "name": "stdout"
        }
      ]
    },
    {
      "cell_type": "code",
      "metadata": {
        "colab": {
          "base_uri": "https://localhost:8080/"
        },
        "id": "sX8cq65BvTOO",
        "outputId": "05dfb275-75d4-45c0-999c-404d9de452d3"
      },
      "source": [
        "i = 0\n",
        "while i<=5 :\n",
        "    print(i, end=' ')\n",
        "    i = i+1\n",
        "\n",
        "print('')\n",
        "print('-'*50)\n",
        "\n",
        "#-----------------------------------------------------------------------------\n",
        "i = 0                   # 들어가기 전에 초기화 중요한것같다.\n",
        "while i<=5 :\n",
        "    i = i+1\n",
        "    print(i, end=' ')   # 조건문에 사용되는 변수 값은 루프 내에서 변경되어야 한다.\n"
      ],
      "execution_count": null,
      "outputs": [
        {
          "output_type": "stream",
          "text": [
            "0 1 2 3 4 5 \n",
            "--------------------------------------------------\n",
            "1 2 3 4 5 6 "
          ],
          "name": "stdout"
        }
      ]
    },
    {
      "cell_type": "code",
      "metadata": {
        "id": "Jsxr2C1H5yAY"
      },
      "source": [
        "# 무한루프 문제들.\n",
        "\n",
        "#-----------------------------------------------------------------------------\n",
        "#i = 1\n",
        "#while [1,2,3,4,5,6,7,8,9,10] : \n",
        "#    print(i)\n",
        "            # 위험! 이거 루프문 되어버린다!!!\n",
        "\n",
        "#while문 옆에는 조건식이 들어가야한다. 참 거짓 판단이 이뤄져야한다.\n",
        "#리스트는 쓸 수 없지만, in 명령어를 쓴다던지 하면 그건 가능. \n",
        "\n",
        "#-----------------------------------------------------------------------------\n",
        "#i = 1\n",
        "#while i<=5 :\n",
        "#   print(i)\n",
        "#print('끝')\n"
      ],
      "execution_count": null,
      "outputs": []
    },
    {
      "cell_type": "markdown",
      "metadata": {
        "id": "f4Msqs1Q9qFy"
      },
      "source": [
        "### 예제. 'q'를 입력할 때까지 반복하여 이름 입력받기"
      ]
    },
    {
      "cell_type": "markdown",
      "metadata": {
        "id": "TTJFIDvAe6Dn"
      },
      "source": [
        "#### 심화 - 베스킨 31"
      ]
    },
    {
      "cell_type": "code",
      "metadata": {
        "id": "VkWQkMLI4eJP"
      },
      "source": [
        "# 내 코드\n",
        "\n",
        "print('※ 베스킨 라빈스 31 ※')\n",
        "\n",
        "num = 0\n",
        "beskin = 0\n",
        "player_amount = int(input('몇 명이 하나요?: '))\n",
        "players = []\n",
        "\n",
        "for i in range(1, player_amount+1) :\n",
        "    players.append(i)\n",
        "print(players)\n",
        "\n",
        "while beskin < 31 :\n",
        "    i = 0\n",
        "    print(f'플레이어{players[i]} 차례')\n",
        "    \n",
        "    num = int(input('베스킨라빈스 31! (1~3)  '))\n",
        "\n",
        "    # 1~3 안의 숫자를 추가하고 있는지 체크하는 함수\n",
        "    if num >=1 and num <= 3 :\n",
        "        print('=> 입력한 숫자: ', num) \n",
        "        beskin += num\n",
        "        print('=> 쌓인 숫자 : ', beskin)\n",
        "\n",
        "# 플레이어 계수 증가\n",
        "        i += 1\n",
        "        if i > n : \n",
        "            i = 1\n",
        "\n",
        "# 잘못된 숫자 입력 시 오류메시지.\n",
        "    else : \n",
        "        print('1부터 3까지의 숫자 중에 입력하세요')\n",
        "    \n",
        "    print('-'*50)\n",
        "\n",
        "# 플레이어 개수 띄워주는 코드도 추가?\n"
      ],
      "execution_count": null,
      "outputs": []
    },
    {
      "cell_type": "code",
      "metadata": {
        "colab": {
          "base_uri": "https://localhost:8080/"
        },
        "id": "R9wvK3ZRZrd2",
        "outputId": "bde53876-bdef-4218-dc25-84efd97fbf77"
      },
      "source": [
        "# 플레이어 리스트 만들기\n",
        "\n",
        "print('※ 베스킨 라빈스 31 ※')\n",
        "\n",
        "num = 0\n",
        "beskin = 0\n",
        "\n",
        "# 플레이어 인원수 설정\n",
        "player_amount = int(input('몇 명이 하나요?: '))\n",
        "players = []\n",
        "\n",
        "for i in range(1, player_amount+1) :\n",
        "    players.append(i)\n",
        "print(players)\n",
        "\n",
        "\n",
        "# 베스킨라빈스 게임\n",
        "while beskin < 31 :\n",
        "    num = int(input('베스킨라빈스 31! (1~3)  '))\n",
        "    if num >=1 and num <= 3 :\n",
        "        print('=> 입력한 숫자: ', num) \n",
        "        beskin += num\n",
        "        print('=> 쌓인 숫자 : ', beskin)\n",
        "    else : \n",
        "        print('1부터 3까지의 숫자 중에 입력하세요')\n",
        "    \n",
        "    print('-'*50)\n"
      ],
      "execution_count": null,
      "outputs": [
        {
          "output_type": "stream",
          "text": [
            "몇 명이 하나요?: 5\n",
            "[1, 2, 3, 4, 5]\n"
          ],
          "name": "stdout"
        }
      ]
    },
    {
      "cell_type": "markdown",
      "metadata": {
        "id": "Cmc_vQmZARWp"
      },
      "source": [
        "### 예제. 5개의 정수를 입력받아 합계 구하기"
      ]
    },
    {
      "cell_type": "code",
      "metadata": {
        "colab": {
          "base_uri": "https://localhost:8080/"
        },
        "id": "tJYwqdZ9ARJx",
        "outputId": "94599c40-bebd-4a83-aadb-deb85d05aa98"
      },
      "source": [
        "# 기본 코드\n",
        "\n",
        "sum = 0                                 # 합계 초기화\n",
        "for i in range(5):                      # 5번 반복\n",
        "    num = int(input('정수입력:'))       # 입력\n",
        "    sum += num                          # 입력한 정수를 합계에 누적하여 더하기\n",
        "print('합계출력:', sum)                 # 합계 출력"
      ],
      "execution_count": null,
      "outputs": [
        {
          "output_type": "stream",
          "text": [
            "정스입력:5\n",
            "정스입력:6\n",
            "정스입력:1\n",
            "정스입력:3\n",
            "정스입력:0\n",
            "합계출력: 15\n"
          ],
          "name": "stdout"
        }
      ]
    },
    {
      "cell_type": "code",
      "metadata": {
        "colab": {
          "base_uri": "https://localhost:8080/"
        },
        "id": "iG3n03eTBG3N",
        "outputId": "3f9e380a-8958-49de-dd36-5d0ed18a87fc"
      },
      "source": [
        "# 실험. i가 실제로 쓰이진 않는데 숫자가 다양할 때? \n",
        "\n",
        "all = 0\n",
        "for i in [1,6,7,8,4,5] :                \n",
        "    num = int(input('정수입력:'))\n",
        "    all += num\n",
        "print('합계출력:', all)\n",
        "\n",
        "# 별 상관없이 횟수로 쓰인다."
      ],
      "execution_count": null,
      "outputs": [
        {
          "output_type": "stream",
          "text": [
            "정수입력:3\n",
            "정수입력:5\n",
            "정수입력:6\n",
            "정수입력:7\n",
            "정수입력:8\n",
            "정수입력:4\n",
            "합계출력: 33\n"
          ],
          "name": "stdout"
        }
      ]
    },
    {
      "cell_type": "markdown",
      "metadata": {
        "id": "oGYoYa0EGVSS"
      },
      "source": [
        "#### 심화"
      ]
    },
    {
      "cell_type": "code",
      "metadata": {
        "id": "rVcelijoBpEC"
      },
      "source": [
        "# 숫자를 한꺼번에 입력하게 하는 방법?"
      ],
      "execution_count": null,
      "outputs": []
    },
    {
      "cell_type": "markdown",
      "metadata": {
        "id": "3_8-yJs1CckL"
      },
      "source": [
        "### 예제. n개의 정수를 입력받아 합계 구하기"
      ]
    },
    {
      "cell_type": "code",
      "metadata": {
        "colab": {
          "base_uri": "https://localhost:8080/"
        },
        "id": "Im3FuTTCB6LU",
        "outputId": "adb144c1-ef35-400b-eb89-859a0e0668ff"
      },
      "source": [
        "#1. 사용자로부터 n입력받기\n",
        "#2. n개의 정수릉 입력받기\n",
        "#3. 합계를 구하기\n",
        "#4. 출력하기\n",
        "\n",
        "n = int(input('몇개의 정수를 더하시겠습니까?: '))\n",
        "num = 0\n",
        "sumnum = 0\n",
        "\n",
        "for i in range(n) :\n",
        "    num = int(input('더할 정수입력:'))\n",
        "    sumnum += num\n",
        "\n",
        "print('합계출력:', sumnum)"
      ],
      "execution_count": null,
      "outputs": [
        {
          "output_type": "stream",
          "text": [
            "몇개의 정수를 더하시겠습니까?: 3\n",
            "더할 정수입력:1\n",
            "더할 정수입력:2\n",
            "더할 정수입력:3\n",
            "합계출력: 6\n"
          ],
          "name": "stdout"
        }
      ]
    },
    {
      "cell_type": "markdown",
      "metadata": {
        "id": "bLUfcsKWGQ5C"
      },
      "source": [
        "#### 활용"
      ]
    },
    {
      "cell_type": "code",
      "metadata": {
        "colab": {
          "base_uri": "https://localhost:8080/"
        },
        "id": "Fp-OVBgxDN6h",
        "outputId": "d255c961-8868-40ad-fc75-0a016ea6b052"
      },
      "source": [
        "#while문으로 바꿔보기\n",
        "\n",
        "n = int(input('몇개의 정수를 더하시겠습니까?: '))\n",
        "num = 0\n",
        "sumnum = 0\n",
        "\n",
        "# i가 입력한 개수인 n까지 매 반복마다 1씩 추가되면서 도달하면 끝나게 만들기.\n",
        "while i == n :\n",
        "    num = int(input('더할 정수입력: '))\n",
        "    sumnum += num\n",
        "    i += 1\n",
        "\n",
        "print('합계출력:', sumnum)\n",
        "\n",
        "# 일단 실패.\n"
      ],
      "execution_count": null,
      "outputs": [
        {
          "output_type": "stream",
          "text": [
            "몇개의 정수를 더하시겠습니까?: 4\n",
            "합계출력: 0\n"
          ],
          "name": "stdout"
        }
      ]
    },
    {
      "cell_type": "markdown",
      "metadata": {
        "id": "q6nd7gc0Ehix"
      },
      "source": [
        "### 예제. n개의 정수를 입력받아 짝수의 합계 구하기"
      ]
    },
    {
      "cell_type": "code",
      "metadata": {
        "colab": {
          "base_uri": "https://localhost:8080/"
        },
        "id": "Ak8ASJEJEhW5",
        "outputId": "9345b689-c773-4329-daa0-679f1a7fe978"
      },
      "source": [
        "#1. 사용자로부터 n을 입력받기\n",
        "#2. n개의 정수를 입력받기\n",
        "#3. 짝수만의 합계를 구하기\n",
        "#4. 출력하기.\n",
        "\n",
        "# 짝수를 찾으려면, 2를 나눈 뒤 %연산자로 나머지가 0인것을 if로 찾게하면된다.\n",
        "\n",
        "#===========================================================================\n",
        "# 짝수 더하기\n",
        "sum1 = 0\n",
        "n = int(input('몇개의 숫자를 더할까요?: '))\n",
        "\n",
        "for i in range(n):\n",
        "    num = int(input('정수입력: '))\n",
        "    if num % 2 == 0:\n",
        "        sum1 += num\n",
        "\n",
        "print('합계출력:', sum1)\n"
      ],
      "execution_count": null,
      "outputs": [
        {
          "output_type": "stream",
          "text": [
            "몇개의 숫자를 더할까요?: 2\n",
            "정수입력: 1\n",
            "정수입력: 3\n",
            "합계출력: 0\n"
          ],
          "name": "stdout"
        }
      ]
    },
    {
      "cell_type": "code",
      "metadata": {
        "colab": {
          "base_uri": "https://localhost:8080/"
        },
        "id": "-JBy3ReGFJra",
        "outputId": "9fc42344-52e4-4268-b40e-5d49c2692872"
      },
      "source": [
        "# 홀수 더하기\n",
        "sum1 = 0\n",
        "n = int(input('몇개의 숫자를 더할까요?: '))\n",
        "\n",
        "for i in range(n):\n",
        "    num = int(input('정수입력: '))\n",
        "    if num % 2 == 1:\n",
        "        sum1 += num\n",
        "\n",
        "print('합계출력:', sum1)"
      ],
      "execution_count": null,
      "outputs": [
        {
          "output_type": "stream",
          "text": [
            "몇개의 숫자를 더할까요?: 3\n",
            "정수입력: 4\n",
            "정수입력: 5\n",
            "정수입력: 6\n",
            "합계출력: 5\n"
          ],
          "name": "stdout"
        }
      ]
    },
    {
      "cell_type": "code",
      "metadata": {
        "colab": {
          "base_uri": "https://localhost:8080/"
        },
        "id": "ih5IRA5WFVgc",
        "outputId": "69efe8af-1d5b-48d0-c3c0-c77fb85a3051"
      },
      "source": [
        "# 3의 배수만 더하기\n",
        "sum1 = 0\n",
        "n = int(input('몇개의 숫자를 더할까요?: '))\n",
        "\n",
        "for i in range(n):\n",
        "    num = int(input('정수입력: '))\n",
        "    if num % 3 == 0:\n",
        "        sum1 += num\n",
        "\n",
        "print('합계출력:', sum1)"
      ],
      "execution_count": null,
      "outputs": [
        {
          "output_type": "stream",
          "text": [
            "몇개의 숫자를 더할까요?: 2\n",
            "정수입력: 3\n",
            "정수입력: 6\n",
            "합계출력: 9\n"
          ],
          "name": "stdout"
        }
      ]
    },
    {
      "cell_type": "markdown",
      "metadata": {
        "id": "M6EpAnZUFvmj"
      },
      "source": [
        "### 예제. 0이 입력될 때까지 숫자를 입력받아 합계 구하기"
      ]
    },
    {
      "cell_type": "code",
      "metadata": {
        "id": "Ij5TimEIFv5R"
      },
      "source": [
        "# 제시된 코드\n",
        "\n",
        "sum1 = 0\n",
        "num = int(input('숫자: '))\n",
        "\n",
        "while num != 0:\n",
        "    sum1 += num\n",
        "    num = int(input('숫자: '))\n",
        "\n",
        "print('합계:', sum1)\n"
      ],
      "execution_count": null,
      "outputs": []
    },
    {
      "cell_type": "markdown",
      "metadata": {
        "id": "91M63PSYGLHK"
      },
      "source": [
        "#### 심화"
      ]
    },
    {
      "cell_type": "code",
      "metadata": {
        "id": "_6skzF2dGJoh"
      },
      "source": [
        "# 리스트 하나씩 append 하기?\n",
        "\n",
        "\n"
      ],
      "execution_count": null,
      "outputs": []
    },
    {
      "cell_type": "code",
      "metadata": {
        "id": "F3r8HvTFGC2D"
      },
      "source": [
        "# 딕셔너리 만들기? \n",
        "\n",
        "\n",
        "\n",
        "\n"
      ],
      "execution_count": null,
      "outputs": []
    },
    {
      "cell_type": "code",
      "metadata": {
        "colab": {
          "base_uri": "https://localhost:8080/"
        },
        "id": "4zBq63gpGoar",
        "outputId": "f84a0831-85d3-42bc-815b-58af4e1729a0"
      },
      "source": [
        "# input을 하나만 작성하기? => while문 써서.\n",
        "\n",
        "plus = 0\n",
        "num = ''\n",
        "\n",
        "while num != 0 :\n",
        "    num = int(input('더할 숫자 (종료 0): '))\n",
        "    plus += num\n",
        "\n",
        "print('합계출력:', plus)"
      ],
      "execution_count": null,
      "outputs": [
        {
          "output_type": "stream",
          "text": [
            "숫자: 1\n",
            "숫자: 1\n",
            "숫자: 3\n",
            "숫자: 5\n",
            "숫자: 6\n",
            "숫자: 0\n",
            "합계출력: 16\n"
          ],
          "name": "stdout"
        }
      ]
    },
    {
      "cell_type": "code",
      "metadata": {
        "id": "0d_DMRBzIJMl"
      },
      "source": [
        "sum1 = 0\n",
        "chk = 1\n",
        "num = int(input(\"숫자: \"))\n",
        "\n",
        "while num!=0 or chk == 1:\n",
        "    sum1+=num\n",
        "    num = int(input(\"숫자: \"))\n",
        "    chk = 1 + chk\n",
        "\n",
        "print('합계:', sum1)\n"
      ],
      "execution_count": null,
      "outputs": []
    },
    {
      "cell_type": "code",
      "metadata": {
        "id": "K-1N2Y7GLKT1"
      },
      "source": [
        "# 1팀 남가연님\n",
        "# n개의 정수와, 사칙연산 기호 입력받아 값 구하기\n",
        "​\n",
        "i=0\n",
        "result=0\n",
        "n=int(input('몇 개의 숫자를 구할까요?: '))\n",
        "sign=str(input('어떤 연산을 할까요?: '))\n",
        "​\n",
        "while i<n:\n",
        "    num=int(input('정수입력: '))\n",
        "    i+=1\n",
        "    if sign == '+':\n",
        "        result += num\n",
        "    elif sign == '-':\n",
        "        result -= num\n",
        "    elif sign == '*':\n",
        "        result *= num\n",
        "    elif sign == '/':\n",
        "        result /= num\n",
        "​\n",
        "print('-'*50)\n",
        "print(f'결과는 {result}입니다')\n",
        "​\n",
        "# -연산을 할 경우 시작값이 0이라 음수만 나옴. 시작값을 넣고싶다면 첫 값을 음수(-a)로 입력해 양수로 바꿔야함.\n",
        "# result 초기값이 0이라 곱셈, 나눗셈 연산은 아무리해도 결과값이 0이 됨. ''으로 하면 str형식이 되서 int와 연산되지 않음."
      ],
      "execution_count": null,
      "outputs": []
    },
    {
      "cell_type": "code",
      "metadata": {
        "id": "uCbXBR-_LN7D"
      },
      "source": [
        "# 1팀 서윤선님\n",
        "#조이름: 별명 딕셔너리 만들기\n",
        "team_name = {}\n",
        "​\n",
        "while 1:\n",
        "    name = input('이름을 입력하세요: ')\n",
        "    if name =='':\n",
        "        break\n",
        "    nick = input('닉네임을 입력하세요: ')\n",
        "    team_name[name] = nick\n",
        "print(team_name)\n"
      ],
      "execution_count": null,
      "outputs": []
    },
    {
      "cell_type": "markdown",
      "metadata": {
        "id": "pSoxWd0rL5ou"
      },
      "source": [
        "### 예제. 1~n까지 더하는 프로그램을 작성하세요"
      ]
    },
    {
      "cell_type": "code",
      "metadata": {
        "colab": {
          "base_uri": "https://localhost:8080/"
        },
        "id": "AhiJe-d5LLc_",
        "outputId": "4a6fe02f-7a8d-4f27-8389-2f5578628dd0"
      },
      "source": [
        "#1. 숫자 n을 입력받기\n",
        "#2. 1~n까지의...\n",
        "#3. 합을 구하기\n",
        "#4. 출력하기\n",
        "\n",
        "plus = 0\n",
        "n = int(input('1부터 몇까지 더할까요? : '))\n",
        "\n",
        "for i in range(1, n+1) : \n",
        "    plus += i\n",
        "\n",
        "print(f'1부터 {n}까지의 총합은:', plus)"
      ],
      "execution_count": null,
      "outputs": [
        {
          "output_type": "stream",
          "text": [
            "1부터 몇까지 더할까요? : 6\n",
            "1부터 6까지의 총합은: 21\n"
          ],
          "name": "stdout"
        }
      ]
    },
    {
      "cell_type": "markdown",
      "metadata": {
        "id": "5A0Tl2K_aXeW"
      },
      "source": [
        "### 예제. n1~n2까지 더하는 프로그램을 작성하세요"
      ]
    },
    {
      "cell_type": "code",
      "metadata": {
        "colab": {
          "base_uri": "https://localhost:8080/"
        },
        "id": "oCGZUbvITR0m",
        "outputId": "1220c9f4-7841-46ab-f926-757a0a323387"
      },
      "source": [
        "#1. 숫자 n1, n2 입력받기\n",
        "#2. n1~n2까지의 합 구하기\n",
        "\n",
        "plus = 0\n",
        "n1 = int(input('몇부터 더할까요?: '))\n",
        "n2 = int(input('몇까지 더할까요?: '))\n",
        "\n",
        "if n1 > n2 :\n",
        "    print('잘못된 범위입니다.')\n",
        "else : \n",
        "    for i in range(n1, n2+1):\n",
        "        plus += i\n",
        "    print(f'{n1}부터 {n2}까지 더한 합계는:', plus)\n"
      ],
      "execution_count": null,
      "outputs": [
        {
          "output_type": "stream",
          "text": [
            "몇부터 더할까요?: 6\n",
            "몇까지 더할까요?: 3\n",
            "잘못된 범위입니다.\n"
          ],
          "name": "stdout"
        }
      ]
    },
    {
      "cell_type": "markdown",
      "metadata": {
        "id": "jqGf0NUccPEm"
      },
      "source": [
        "### 예제. 임의의 개수 숫자의 평균 구하기"
      ]
    },
    {
      "cell_type": "code",
      "metadata": {
        "colab": {
          "base_uri": "https://localhost:8080/"
        },
        "id": "B9cst7mpcPa5",
        "outputId": "7d143bb8-c3e7-4fd3-85e0-74057a622722"
      },
      "source": [
        "# 내 코드\n",
        "\n",
        "n = int(input('입력받을 정수의 개수: '))\n",
        "num = 0\n",
        "total = 0\n",
        "\n",
        "for i in range(n) : \n",
        "    num = int(input('정수: '))\n",
        "    total += num\n",
        "\n",
        "if n == 0 : \n",
        "    print('0개의 정수를 입력하셨습니다.')\n",
        "else: \n",
        "    print('평균: ', round(total/n, 3))\n"
      ],
      "execution_count": null,
      "outputs": [
        {
          "output_type": "stream",
          "text": [
            "입력받을 정수의 개수: 3\n",
            "정수: 6\n",
            "정수: 10\n",
            "정수: 3\n",
            "평균:  6.333\n"
          ],
          "name": "stdout"
        }
      ]
    },
    {
      "cell_type": "code",
      "metadata": {
        "id": "Fig-LjzJduZk"
      },
      "source": [
        "# while문\n",
        "\n"
      ],
      "execution_count": null,
      "outputs": []
    },
    {
      "cell_type": "markdown",
      "metadata": {
        "id": "nTUuwdMzfZ5A"
      },
      "source": [
        "### 예제. 팩토리얼 계산하기\n",
        "- 정수 n을 입력받아 n!을 계산하는 프로그램을 작성하세요."
      ]
    },
    {
      "cell_type": "code",
      "metadata": {
        "colab": {
          "base_uri": "https://localhost:8080/"
        },
        "id": "dPiP4YB0faqm",
        "outputId": "4c6e5459-66d3-4938-acce-184d541c373c"
      },
      "source": [
        "n = int(input('몇 팩토리얼? : '))\n",
        "factorial = 1\n",
        "\n",
        "print('-' * 50)\n",
        "for i in range(n,0,-1) :\n",
        "    factorial *= i \n",
        "    print('인수:', i, '   ', '계산후 값:', factorial)\n",
        "\n",
        "print('-' * 50)\n",
        "print(f'{n}! = {factorial}')"
      ],
      "execution_count": null,
      "outputs": [
        {
          "output_type": "stream",
          "text": [
            "몇 팩토리얼? : 5\n",
            "--------------------------------------------------\n",
            "인수: 5     계산후 값: 5\n",
            "인수: 4     계산후 값: 20\n",
            "인수: 3     계산후 값: 60\n",
            "인수: 2     계산후 값: 120\n",
            "인수: 1     계산후 값: 120\n",
            "--------------------------------------------------\n",
            "5! = 120\n"
          ],
          "name": "stdout"
        }
      ]
    },
    {
      "cell_type": "markdown",
      "metadata": {
        "id": "rJk1J0wPiBL-"
      },
      "source": [
        "### 예제. 구구단"
      ]
    },
    {
      "cell_type": "code",
      "metadata": {
        "colab": {
          "base_uri": "https://localhost:8080/"
        },
        "id": "lNMycvFNiBg4",
        "outputId": "a884e96f-f449-49a3-c54b-265c521cbbc2"
      },
      "source": [
        "# 구구단 몇단인지 숫자 입력\n",
        "n = int(input('구구단 몇단?: '))\n",
        "\n",
        "print('-' * 15)\n",
        "\n",
        "# 1부터 9까지의 숫자를 n에 곱하기. 실질적 구구단 수행.\n",
        "for i in range(1, 10) : \n",
        "    total = n * i\n",
        "    print(f'{n} x {i} = {total}')"
      ],
      "execution_count": null,
      "outputs": [
        {
          "output_type": "stream",
          "text": [
            "구구단 몇단?: 4\n",
            "---------------\n",
            "4 x 1 = 4\n",
            "4 x 2 = 8\n",
            "4 x 3 = 12\n",
            "4 x 4 = 16\n",
            "4 x 5 = 20\n",
            "4 x 6 = 24\n",
            "4 x 7 = 28\n",
            "4 x 8 = 32\n",
            "4 x 9 = 36\n"
          ],
          "name": "stdout"
        }
      ]
    },
    {
      "cell_type": "code",
      "metadata": {
        "colab": {
          "base_uri": "https://localhost:8080/"
        },
        "id": "nXDcTstxjF5A",
        "outputId": "32d57f9f-54e5-4ea5-e571-0cf6253839f4"
      },
      "source": [
        "# 더 짧은 코드\n",
        "\n",
        "n = int(input('구구단 몇단?: '))\n",
        "\n",
        "print('-' * 16)\n",
        "\n",
        "for i in range(1, 10) : \n",
        "    print(f'{n} x {i} = {n*i}')"
      ],
      "execution_count": null,
      "outputs": [
        {
          "output_type": "stream",
          "text": [
            "구구단 몇단?: 8\n",
            "----------------\n",
            "8 x 1 = 8\n",
            "8 x 2 = 16\n",
            "8 x 3 = 24\n",
            "8 x 4 = 32\n",
            "8 x 5 = 40\n",
            "8 x 6 = 48\n",
            "8 x 7 = 56\n",
            "8 x 8 = 64\n",
            "8 x 9 = 72\n"
          ],
          "name": "stdout"
        }
      ]
    },
    {
      "cell_type": "markdown",
      "metadata": {
        "id": "d_fHiRm2mZMA"
      },
      "source": [
        "## 3) 중첩반복구조"
      ]
    },
    {
      "cell_type": "code",
      "metadata": {
        "colab": {
          "base_uri": "https://localhost:8080/"
        },
        "id": "IJET2kqzmcEK",
        "outputId": "7adb8dc8-ad69-4c27-cf48-02942715e92a"
      },
      "source": [
        "for i in range(5):          \n",
        "    for j in range(3):      # 내부 루프와 외부 루프가 동일한 제어변수를 사용하면 안된다.\n",
        "        print(i, j)         #=> 내부 for문을 외부 for문의 시퀀스만큼 반복한다."
      ],
      "execution_count": null,
      "outputs": [
        {
          "output_type": "stream",
          "text": [
            "0 0\n",
            "0 1\n",
            "0 2\n",
            "1 0\n",
            "1 1\n",
            "1 2\n",
            "2 0\n",
            "2 1\n",
            "2 2\n",
            "3 0\n",
            "3 1\n",
            "3 2\n",
            "4 0\n",
            "4 1\n",
            "4 2\n"
          ],
          "name": "stdout"
        }
      ]
    },
    {
      "cell_type": "markdown",
      "metadata": {
        "id": "bwqW7F7CndYo"
      },
      "source": [
        "### 예제. 전체 구구단 출력하기 (가로/세로)"
      ]
    },
    {
      "cell_type": "code",
      "metadata": {
        "colab": {
          "base_uri": "https://localhost:8080/"
        },
        "id": "kRbhJLLvnUDw",
        "outputId": "603d521e-df75-46b3-b5e5-4faf896c8f4a"
      },
      "source": [
        "# 가로 코드\n",
        "\n",
        "for i in range(2,10): \n",
        "    for j in range(1,10): \n",
        "        print(f'{i} x {j} = {i*j}', end='\\t')\n",
        "    print()"
      ],
      "execution_count": null,
      "outputs": [
        {
          "output_type": "stream",
          "text": [
            "2 x 1 = 2\t2 x 2 = 4\t2 x 3 = 6\t2 x 4 = 8\t2 x 5 = 10\t2 x 6 = 12\t2 x 7 = 14\t2 x 8 = 16\t2 x 9 = 18\t\n",
            "3 x 1 = 3\t3 x 2 = 6\t3 x 3 = 9\t3 x 4 = 12\t3 x 5 = 15\t3 x 6 = 18\t3 x 7 = 21\t3 x 8 = 24\t3 x 9 = 27\t\n",
            "4 x 1 = 4\t4 x 2 = 8\t4 x 3 = 12\t4 x 4 = 16\t4 x 5 = 20\t4 x 6 = 24\t4 x 7 = 28\t4 x 8 = 32\t4 x 9 = 36\t\n",
            "5 x 1 = 5\t5 x 2 = 10\t5 x 3 = 15\t5 x 4 = 20\t5 x 5 = 25\t5 x 6 = 30\t5 x 7 = 35\t5 x 8 = 40\t5 x 9 = 45\t\n",
            "6 x 1 = 6\t6 x 2 = 12\t6 x 3 = 18\t6 x 4 = 24\t6 x 5 = 30\t6 x 6 = 36\t6 x 7 = 42\t6 x 8 = 48\t6 x 9 = 54\t\n",
            "7 x 1 = 7\t7 x 2 = 14\t7 x 3 = 21\t7 x 4 = 28\t7 x 5 = 35\t7 x 6 = 42\t7 x 7 = 49\t7 x 8 = 56\t7 x 9 = 63\t\n",
            "8 x 1 = 8\t8 x 2 = 16\t8 x 3 = 24\t8 x 4 = 32\t8 x 5 = 40\t8 x 6 = 48\t8 x 7 = 56\t8 x 8 = 64\t8 x 9 = 72\t\n",
            "9 x 1 = 9\t9 x 2 = 18\t9 x 3 = 27\t9 x 4 = 36\t9 x 5 = 45\t9 x 6 = 54\t9 x 7 = 63\t9 x 8 = 72\t9 x 9 = 81\t\n"
          ],
          "name": "stdout"
        }
      ]
    },
    {
      "cell_type": "code",
      "metadata": {
        "colab": {
          "base_uri": "https://localhost:8080/"
        },
        "id": "n7gS1GUNmbyo",
        "outputId": "0a88a606-a3db-4d0f-8df1-90b463bbee6c"
      },
      "source": [
        "# 세로 코드\n",
        "\n",
        "for i in range(1,10): \n",
        "    for j in range(2,10): \n",
        "        print(f'{j} x {i} = {j*i}', end='\\t')\n",
        "    print()"
      ],
      "execution_count": null,
      "outputs": [
        {
          "output_type": "stream",
          "text": [
            "2 x 1 = 2\t3 x 1 = 3\t4 x 1 = 4\t5 x 1 = 5\t6 x 1 = 6\t7 x 1 = 7\t8 x 1 = 8\t9 x 1 = 9\t\n",
            "2 x 2 = 4\t3 x 2 = 6\t4 x 2 = 8\t5 x 2 = 10\t6 x 2 = 12\t7 x 2 = 14\t8 x 2 = 16\t9 x 2 = 18\t\n",
            "2 x 3 = 6\t3 x 3 = 9\t4 x 3 = 12\t5 x 3 = 15\t6 x 3 = 18\t7 x 3 = 21\t8 x 3 = 24\t9 x 3 = 27\t\n",
            "2 x 4 = 8\t3 x 4 = 12\t4 x 4 = 16\t5 x 4 = 20\t6 x 4 = 24\t7 x 4 = 28\t8 x 4 = 32\t9 x 4 = 36\t\n",
            "2 x 5 = 10\t3 x 5 = 15\t4 x 5 = 20\t5 x 5 = 25\t6 x 5 = 30\t7 x 5 = 35\t8 x 5 = 40\t9 x 5 = 45\t\n",
            "2 x 6 = 12\t3 x 6 = 18\t4 x 6 = 24\t5 x 6 = 30\t6 x 6 = 36\t7 x 6 = 42\t8 x 6 = 48\t9 x 6 = 54\t\n",
            "2 x 7 = 14\t3 x 7 = 21\t4 x 7 = 28\t5 x 7 = 35\t6 x 7 = 42\t7 x 7 = 49\t8 x 7 = 56\t9 x 7 = 63\t\n",
            "2 x 8 = 16\t3 x 8 = 24\t4 x 8 = 32\t5 x 8 = 40\t6 x 8 = 48\t7 x 8 = 56\t8 x 8 = 64\t9 x 8 = 72\t\n",
            "2 x 9 = 18\t3 x 9 = 27\t4 x 9 = 36\t5 x 9 = 45\t6 x 9 = 54\t7 x 9 = 63\t8 x 9 = 72\t9 x 9 = 81\t\n"
          ],
          "name": "stdout"
        }
      ]
    },
    {
      "cell_type": "code",
      "metadata": {
        "id": "IbK_ctbep_oK"
      },
      "source": [
        "# 구구단 결과를 리스트로 저장해서 하는 법?\n",
        "#=> 리스트로는 append. 근데 원하는 단수 저장하려면... 키값이 있는 딕셔너리가 더 효율적일것.\n",
        "#=> 딕셔너리로 해도 됨.\n",
        "#=> 아니면 구구단 결과만 리스트로 저장하거나.\n",
        "\n"
      ],
      "execution_count": null,
      "outputs": []
    },
    {
      "cell_type": "markdown",
      "metadata": {
        "id": "l__IfS9lqXc4"
      },
      "source": [
        "## 3) break : 반복에서 벗어나기"
      ]
    },
    {
      "cell_type": "code",
      "metadata": {
        "colab": {
          "base_uri": "https://localhost:8080/"
        },
        "id": "V5hA_7cSqX3Y",
        "outputId": "d6fef717-41c6-445c-e0d6-b606f34b2921"
      },
      "source": [
        "text = 'I have a dream'\n",
        "letter = input('찾을문자: ')\n",
        "\n",
        "for i in text:\n",
        "    print(i, end='')\n",
        "    if i == letter:\n",
        "        break"
      ],
      "execution_count": null,
      "outputs": [
        {
          "output_type": "stream",
          "text": [
            "찾을문자: e\n",
            "I have"
          ],
          "name": "stdout"
        }
      ]
    },
    {
      "cell_type": "markdown",
      "metadata": {
        "id": "JKRXDlgJtv0t"
      },
      "source": [
        "# 2. 함수"
      ]
    },
    {
      "cell_type": "code",
      "metadata": {
        "id": "Qe2FqSKnYUFl"
      },
      "source": [
        ""
      ],
      "execution_count": null,
      "outputs": []
    },
    {
      "cell_type": "markdown",
      "metadata": {
        "id": "nXi1t07nt2i9"
      },
      "source": [
        "## 1) random"
      ]
    },
    {
      "cell_type": "code",
      "metadata": {
        "id": "sIvffQDhtwHc"
      },
      "source": [
        ""
      ],
      "execution_count": null,
      "outputs": []
    },
    {
      "cell_type": "markdown",
      "metadata": {
        "id": "bS8PNPS4r1gy"
      },
      "source": [
        "### 예제. up & down 게임"
      ]
    },
    {
      "cell_type": "code",
      "metadata": {
        "colab": {
          "base_uri": "https://localhost:8080/"
        },
        "id": "IAc3cKWOsPoD",
        "outputId": "731349fc-b68b-453a-d9a9-b429fc694be2"
      },
      "source": [
        "# 기회 횟수 제한있음\n",
        "\n",
        "import random\n",
        "\n",
        "print('※ UP & DOWN 게임 ※')\n",
        "answer = random.randint(1, 100)\n",
        "guess = 0\n",
        "chance = int(input('몇번 추측해볼 수 있나요?: '))\n",
        "\n",
        "for i in range(chance) :\n",
        "    guess = int(input('1부터 100까지의 숫자 중 하나를 고르세요 (기회 10번): '))\n",
        "    if answer > guess : \n",
        "        print('UP')\n",
        "    elif answer < guess : \n",
        "        print('DOWN')\n",
        "    elif answer == guess :\n",
        "        print('=========== 정답! ===========')\n",
        "        break\n",
        "    else :\n",
        "        print('정수를 입력하세요.')"
      ],
      "execution_count": null,
      "outputs": [
        {
          "output_type": "stream",
          "text": [
            "1부터 100까지의 숫자 중 하나를 고르세요 (기회 10번): 50\n",
            "DOWN\n",
            "1부터 100까지의 숫자 중 하나를 고르세요 (기회 10번): 30\n",
            "UP\n",
            "1부터 100까지의 숫자 중 하나를 고르세요 (기회 10번): 40\n",
            "DOWN\n",
            "1부터 100까지의 숫자 중 하나를 고르세요 (기회 10번): 35\n",
            "DOWN\n",
            "1부터 100까지의 숫자 중 하나를 고르세요 (기회 10번): 33\n",
            "DOWN\n",
            "1부터 100까지의 숫자 중 하나를 고르세요 (기회 10번): 31\n",
            "correct!\n"
          ],
          "name": "stdout"
        }
      ]
    },
    {
      "cell_type": "code",
      "metadata": {
        "id": "mOI2Hplozlnj"
      },
      "source": [
        "# 코드메이트님께서 고쳐주신 코드\n",
        "# 기회 횟수 제한있음\n",
        "​\n",
        "import random\n",
        "​\n",
        "print('※ UP & DOWN 게임 ※')\n",
        "answer = random.randint(1, 100)\n",
        "guess = 0\n",
        "chance = int(input('몇번 추측해볼 수 있나요?: '))\n",
        "cnt = 0\n",
        "print(answer)\n",
        "for i in range(chance) :\n",
        "    cnt += 1\n",
        "    guess = int(input(f'1부터 100까지의 숫자 중 하나를 고르세요 (기회 {chance}번): '))\n",
        "    if answer > guess : \n",
        "        print('UP')\n",
        "    elif answer < guess : \n",
        "        print('DOWN')\n",
        "    elif answer == guess :\n",
        "        print('=========== 정답! ===========')\n",
        "        break\n",
        "​\n",
        "    # 횟수 안에 정답 못맞혔을 때    \n",
        "    if answer != guess and cnt == chance:\n",
        "        print(\"fail!\")"
      ],
      "execution_count": null,
      "outputs": []
    },
    {
      "cell_type": "code",
      "metadata": {
        "colab": {
          "base_uri": "https://localhost:8080/"
        },
        "id": "Dx60wNqvuHTB",
        "outputId": "245a4fa8-7270-4245-a4e1-88294c196ca6"
      },
      "source": [
        "# 기회 무한\n",
        "\n",
        "import random\n",
        "\n",
        "answer = random.randint(1, 100)\n",
        "guess = 0\n",
        "\n",
        "while answer != guess :\n",
        "    guess = int(input('1부터 100까지의 숫자 중 하나를 고르세요: '))\n",
        "    if answer > guess : \n",
        "        print('UP')\n",
        "    elif answer < guess : \n",
        "        print('DOWN')\n",
        "    else :\n",
        "        print('정수를 입력하세요.')\n",
        "\n",
        "print('=========== 정답! ===========')\n",
        "# break"
      ],
      "execution_count": null,
      "outputs": [
        {
          "output_type": "stream",
          "text": [
            "1부터 100까지의 숫자 중 하나를 고르세요: 50\n",
            "UP\n",
            "1부터 100까지의 숫자 중 하나를 고르세요: 75\n",
            "DOWN\n",
            "1부터 100까지의 숫자 중 하나를 고르세요: 60\n",
            "정답!\n"
          ],
          "name": "stdout"
        }
      ]
    },
    {
      "cell_type": "markdown",
      "metadata": {
        "id": "zLm_Mmndt240"
      },
      "source": [
        "## 2) "
      ]
    },
    {
      "cell_type": "code",
      "metadata": {
        "id": "-DrhOBOytwaV"
      },
      "source": [
        ""
      ],
      "execution_count": null,
      "outputs": []
    },
    {
      "cell_type": "markdown",
      "metadata": {
        "id": "gBfGdz-Dtoh0"
      },
      "source": [
        "# ※ 예제"
      ]
    },
    {
      "cell_type": "code",
      "metadata": {
        "id": "VrTNd6iltpB1"
      },
      "source": [
        ""
      ],
      "execution_count": null,
      "outputs": []
    },
    {
      "cell_type": "code",
      "metadata": {
        "id": "-Gr3V_ZjtpuM"
      },
      "source": [
        ""
      ],
      "execution_count": null,
      "outputs": []
    }
  ]
}