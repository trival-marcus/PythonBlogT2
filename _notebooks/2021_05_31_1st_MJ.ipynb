{
  "nbformat": 4,
  "nbformat_minor": 0,
  "metadata": {
    "colab": {
      "name": "2021-05-31-1팀-장민준.ipynb",
      "provenance": [],
      "collapsed_sections": [
        "AQGbzK5pnQfw",
        "2rARJf0Gm9wZ",
        "VXZP0ENuv3qZ",
        "CvuWyD2R2hfV",
        "J3Ya1Oup2fvF",
        "n7vFqIWl3gUs",
        "Rwdrf3tw4r6M",
        "fvOOtDPr5WCk",
        "eBn_uURzDYaK",
        "Hf6C_4l-DcPB",
        "m_tngEpsD1__",
        "HnqrTIGkD2m6",
        "sG720HkPGHZe",
        "2ynngDLqHHY0",
        "g9h1Ogg-KwcR",
        "peqdvhP5TEyc",
        "2iHBrRCrTEKu",
        "xlimYWJUTs7Y",
        "um5kigA_Ts4Q",
        "m-HU-KyrWcE3"
      ],
      "authorship_tag": "ABX9TyM5Fat8VasNFiAtuFnRtkDH",
      "include_colab_link": true
    },
    "kernelspec": {
      "name": "python3",
      "display_name": "Python 3"
    },
    "language_info": {
      "name": "python"
    }
  },
  "cells": [
    {
      "cell_type": "markdown",
      "metadata": {
        "id": "view-in-github",
        "colab_type": "text"
      },
      "source": [
        "<a href=\"https://colab.research.google.com/github/trival-marcus/PythonBlog/blob/master/_notebooks/2021_05_31_1%ED%8C%80_%EC%9E%A5%EB%AF%BC%EC%A4%80.ipynb\" target=\"_parent\"><img src=\"https://colab.research.google.com/assets/colab-badge.svg\" alt=\"Open In Colab\"/></a>"
      ]
    },
    {
      "cell_type": "markdown",
      "metadata": {
        "id": "AQGbzK5pnQfw"
      },
      "source": [
        "# ※ 복습"
      ]
    },
    {
      "cell_type": "code",
      "metadata": {
        "id": "pUL0LE33nQ7M"
      },
      "source": [
        ""
      ],
      "execution_count": null,
      "outputs": []
    },
    {
      "cell_type": "markdown",
      "metadata": {
        "id": "2rARJf0Gm9wZ"
      },
      "source": [
        "# 1. 딕셔너리 (복습)\n",
        "- 예제1"
      ]
    },
    {
      "cell_type": "code",
      "metadata": {
        "id": "G4yfznuqnMNY"
      },
      "source": [
        ""
      ],
      "execution_count": null,
      "outputs": []
    },
    {
      "cell_type": "markdown",
      "metadata": {
        "id": "VXZP0ENuv3qZ"
      },
      "source": [
        "# 2. 집합\n",
        "- 집합은 리스트와 집합을 원소로 저장할 수 없다.\n",
        "- 집합의 연산은 +, *로는 연산할 수 없다."
      ]
    },
    {
      "cell_type": "markdown",
      "metadata": {
        "id": "CvuWyD2R2hfV"
      },
      "source": [
        "## 집합의 생성"
      ]
    },
    {
      "cell_type": "code",
      "metadata": {
        "colab": {
          "base_uri": "https://localhost:8080/"
        },
        "id": "LcdcrQh3v5CX",
        "outputId": "6914d123-8e45-4396-a16e-3d58847896de"
      },
      "source": [
        "# 집합의 생성\n",
        "    # 데이터 중복 가능\n",
        "    # 중복된 데이터는 합쳐진다\n",
        "    # set([]) 로 작성하면 set으로 바꿔준다. list도 이런거 있었다.\n",
        "    # 순서가 상관없어서 출력되는 양상도 멋대로 출력된다.\n",
        "\n",
        "# 1. 중괄호{} 로 set 생성하기\n",
        "set_wish = {'새우깡', '오감자', '양파링', '포카칩', '양파링'}\n",
        "print(set_wish)\n",
        "\n",
        "# 2. set([요소1, 요소2, ..., 요소N]) 을 통해서 set 생성하기\n",
        "set_wish = set(['새우깡', '오감자', '양파링', '포카칩', '양파링'])\n",
        "print(set_wish)"
      ],
      "execution_count": null,
      "outputs": [
        {
          "output_type": "stream",
          "text": [
            "{'새우깡', '양파링', '오감자', '포카칩'}\n",
            "{'새우깡', '양파링', '오감자', '포카칩'}\n"
          ],
          "name": "stdout"
        }
      ]
    },
    {
      "cell_type": "markdown",
      "metadata": {
        "id": "J3Ya1Oup2fvF"
      },
      "source": [
        "## 집합의 요소 추출\n",
        "집합은 인덱싱 불가. 순서가 없으니까.\n",
        "그러니 리스트list(), 튜플tuple() 로 변환하여 인덱싱할 것.\n",
        "\n",
        "또한 in 명령어는 집합은 받을 수 없다."
      ]
    },
    {
      "cell_type": "code",
      "metadata": {
        "colab": {
          "base_uri": "https://localhost:8080/"
        },
        "id": "pbAieTMDv5N-",
        "outputId": "95485cb8-2824-4c76-e237-be03b1823dda"
      },
      "source": [
        "# 집합의 요소 추출\n",
        "\n",
        "# 1. 리스트로 받아서 인덱싱하기\n",
        "set_wish = {'새우깡', '오감자', '양파링', '포카칩', '양파링'}\n",
        "list_wish = list(set_wish)\n",
        "print(list_wish)\n",
        "print(list_wish[2])\n",
        "\n",
        "# 2. 튜플로 받아서 인덱싱하기\n",
        "set_wish = {'새우깡', '오감자', '양파링', '포카칩', '양파링'}\n",
        "list_wish = tuple(set_wish)\n",
        "print(list_wish)\n",
        "print(list_wish[2])"
      ],
      "execution_count": null,
      "outputs": [
        {
          "output_type": "stream",
          "text": [
            "['새우깡', '양파링', '오감자', '포카칩']\n",
            "오감자\n",
            "('새우깡', '양파링', '오감자', '포카칩')\n",
            "오감자\n"
          ],
          "name": "stdout"
        }
      ]
    },
    {
      "cell_type": "markdown",
      "metadata": {
        "id": "n7vFqIWl3gUs"
      },
      "source": [
        "## 집합의 연산\n",
        "- a와 b의 합집합 : a.union(b) == a|b\n",
        "- a와 b의 교집합 : a.intersection(b) == a&b\n",
        "- a와 b의 차집합 : a.difference(b) == a-b"
      ]
    },
    {
      "cell_type": "code",
      "metadata": {
        "colab": {
          "base_uri": "https://localhost:8080/"
        },
        "id": "a_L4jf8W3hwV",
        "outputId": "52510715-6002-4ab0-94eb-52041dd926ac"
      },
      "source": [
        "sweety = {'빼빼로', '칸초', '허니버터'}\n",
        "salty = {'허니버터', '포카칩', '새우깡'}\n",
        "\n",
        "#합집합\n",
        "print(sweety.union(salty))\n",
        "print(sweety|salty)\n",
        "\n",
        "#교집합\n",
        "print(sweety.intersection(salty))\n",
        "print(sweety&salty)\n",
        "\n",
        "#차집합\n",
        "print(sweety.difference(salty))\n",
        "print(sweety-salty)\n",
        "print(salty.difference(sweety))\n",
        "print(salty-sweety)"
      ],
      "execution_count": null,
      "outputs": [
        {
          "output_type": "stream",
          "text": [
            "{'칸초', '새우깡', '허니버터', '포카칩', '빼빼로'}\n",
            "{'칸초', '새우깡', '허니버터', '포카칩', '빼빼로'}\n",
            "{'허니버터'}\n",
            "{'허니버터'}\n",
            "{'칸초', '빼빼로'}\n",
            "{'칸초', '빼빼로'}\n",
            "{'새우깡', '포카칩'}\n",
            "{'새우깡', '포카칩'}\n"
          ],
          "name": "stdout"
        }
      ]
    },
    {
      "cell_type": "markdown",
      "metadata": {
        "id": "Rwdrf3tw4r6M"
      },
      "source": [
        "## 집합의 요소 추가\n",
        "- 집합명.add(요소) : 요소 1개만 추가\n",
        "- 집합명.update(리스트) : 리스트를 추가. 여러 개 추가."
      ]
    },
    {
      "cell_type": "code",
      "metadata": {
        "colab": {
          "base_uri": "https://localhost:8080/"
        },
        "id": "CNb3nTsN4tlu",
        "outputId": "bcee0be3-5d1e-4f56-af94-949667da7653"
      },
      "source": [
        "# 집합명.add(요소)\n",
        "set_wish = {'새우깡', '오감자', '양파링', '포카칩', '양파링'}\n",
        "set_wish.add('허니버터')\n",
        "print(set_wish)\n",
        "\n",
        "# 집합명.update(리스트)\n",
        "set_wish = {'새우깡', '오감자', '양파링', '포카칩', '양파링'}\n",
        "set_wish.update(['빼빼로','빼빼로', '칸초'])\n",
        "print(set_wish)\n"
      ],
      "execution_count": null,
      "outputs": [
        {
          "output_type": "stream",
          "text": [
            "{'새우깡', '허니버터', '포카칩', '양파링', '오감자'}\n",
            "{'칸초', '새우깡', '오감자', '포카칩', '양파링', '빼빼로'}\n"
          ],
          "name": "stdout"
        }
      ]
    },
    {
      "cell_type": "code",
      "metadata": {
        "colab": {
          "base_uri": "https://localhost:8080/"
        },
        "id": "Th6To15H6qcj",
        "outputId": "53653f4c-c090-48c0-c3d8-0777909c4043"
      },
      "source": [
        "# update를 리스트가 아니라 그냥 요소로 추가하면?\n",
        "set_wish = {'새우깡', '오감자', '양파링', '포카칩', '양파링'}\n",
        "set_wish.update('오감자')\n",
        "print(set_wish)\n",
        "    # 글자마다 따로 나뉘어서 들어간다."
      ],
      "execution_count": null,
      "outputs": [
        {
          "output_type": "stream",
          "text": [
            "{'감', '자', '새우깡', '포카칩', '오', '양파링', '오감자'}\n"
          ],
          "name": "stdout"
        }
      ]
    },
    {
      "cell_type": "markdown",
      "metadata": {
        "id": "fvOOtDPr5WCk"
      },
      "source": [
        "## 집합의 요소 삭제\n",
        "- 집합명.remove(요소)\n",
        "\n",
        "인덱스가 없으므로 del이나 pop은 쓸 수 없다.\n",
        "for문 써서 다 돌려서 삭제하는 방법도 있다.\n",
        "\n",
        "존재하지 않는 요소 삭제하려하면 당연히 에러 발생.\n",
        "\n",
        "- in 명령어는 집합은 받을 수 없다."
      ]
    },
    {
      "cell_type": "code",
      "metadata": {
        "colab": {
          "base_uri": "https://localhost:8080/"
        },
        "id": "WlBTzPI85Ypc",
        "outputId": "db1cafb6-5888-430e-dc13-6f31be28fbdb"
      },
      "source": [
        "# 집합명.remove(요소)\n",
        "set_wish = {'새우깡', '오감자', '양파링', '포카칩', '양파링'}\n",
        "set_wish.remove('오감자')\n",
        "print(set_wish)\n",
        "\n",
        "# if로 에러 방지\n",
        "set_wish = {'새우깡', '오감자', '양파링', '포카칩', '양파링'}\n",
        "if '새우깡' in list(set_wish) :                 # in 명령어에는 집합을 바로 사용할 수 없다. list 등으로 씌워야한다.\n",
        "    set_wish.remove('새우깡')\n",
        "print(set_wish)\n",
        "\n"
      ],
      "execution_count": null,
      "outputs": [
        {
          "output_type": "stream",
          "text": [
            "{'새우깡', '양파링', '포카칩'}\n",
            "{'양파링', '오감자', '포카칩'}\n"
          ],
          "name": "stdout"
        }
      ]
    },
    {
      "cell_type": "code",
      "metadata": {
        "colab": {
          "base_uri": "https://localhost:8080/",
          "height": 215
        },
        "id": "08MpWb3-5zfw",
        "outputId": "e24e1856-b838-4529-ac39-5608d03d4caa"
      },
      "source": [
        "# 오류문. 없는걸 삭제 시키면 무슨 일이 일어나나?\n",
        "set_wish = {'새우깡', '오감자', '양파링', '포카칩', '양파링'}\n",
        "set_wish.remove('오징어튀김')\n",
        "print(set_wish)\n",
        "    # 'KeyError' 가 뜬다."
      ],
      "execution_count": null,
      "outputs": [
        {
          "output_type": "error",
          "ename": "KeyError",
          "evalue": "ignored",
          "traceback": [
            "\u001b[0;31m---------------------------------------------------------------------------\u001b[0m",
            "\u001b[0;31mKeyError\u001b[0m                                  Traceback (most recent call last)",
            "\u001b[0;32m<ipython-input-21-fad4cd722299>\u001b[0m in \u001b[0;36m<module>\u001b[0;34m()\u001b[0m\n\u001b[1;32m      1\u001b[0m \u001b[0;31m# 오류문\u001b[0m\u001b[0;34m\u001b[0m\u001b[0;34m\u001b[0m\u001b[0;34m\u001b[0m\u001b[0m\n\u001b[1;32m      2\u001b[0m \u001b[0mset_wish\u001b[0m \u001b[0;34m=\u001b[0m \u001b[0;34m{\u001b[0m\u001b[0;34m'새우깡'\u001b[0m\u001b[0;34m,\u001b[0m \u001b[0;34m'오감자'\u001b[0m\u001b[0;34m,\u001b[0m \u001b[0;34m'양파링'\u001b[0m\u001b[0;34m,\u001b[0m \u001b[0;34m'포카칩'\u001b[0m\u001b[0;34m,\u001b[0m \u001b[0;34m'양파링'\u001b[0m\u001b[0;34m}\u001b[0m\u001b[0;34m\u001b[0m\u001b[0;34m\u001b[0m\u001b[0m\n\u001b[0;32m----> 3\u001b[0;31m \u001b[0mset_wish\u001b[0m\u001b[0;34m.\u001b[0m\u001b[0mremove\u001b[0m\u001b[0;34m(\u001b[0m\u001b[0;34m'오징어튀김'\u001b[0m\u001b[0;34m)\u001b[0m\u001b[0;34m\u001b[0m\u001b[0;34m\u001b[0m\u001b[0m\n\u001b[0m\u001b[1;32m      4\u001b[0m \u001b[0mprint\u001b[0m\u001b[0;34m(\u001b[0m\u001b[0mset_wish\u001b[0m\u001b[0;34m)\u001b[0m\u001b[0;34m\u001b[0m\u001b[0;34m\u001b[0m\u001b[0m\n",
            "\u001b[0;31mKeyError\u001b[0m: '오징어튀김'"
          ]
        }
      ]
    },
    {
      "cell_type": "code",
      "metadata": {
        "colab": {
          "base_uri": "https://localhost:8080/",
          "height": 198
        },
        "id": "-3No5j6m63N1",
        "outputId": "4a5d8ecb-8dd1-404e-9e70-c60bed3970be"
      },
      "source": [
        "# 글자 하나만 삭제하는건 당연히 안됨.\n",
        "set_wish = {'새우깡', '오감자', '양파링', '포카칩', '양파링'}\n",
        "set_wish.remove('오')\n",
        "print(set_wish)"
      ],
      "execution_count": null,
      "outputs": [
        {
          "output_type": "error",
          "ename": "KeyError",
          "evalue": "ignored",
          "traceback": [
            "\u001b[0;31m---------------------------------------------------------------------------\u001b[0m",
            "\u001b[0;31mKeyError\u001b[0m                                  Traceback (most recent call last)",
            "\u001b[0;32m<ipython-input-24-4787e96b73fc>\u001b[0m in \u001b[0;36m<module>\u001b[0;34m()\u001b[0m\n\u001b[1;32m      1\u001b[0m \u001b[0mset_wish\u001b[0m \u001b[0;34m=\u001b[0m \u001b[0;34m{\u001b[0m\u001b[0;34m'새우깡'\u001b[0m\u001b[0;34m,\u001b[0m \u001b[0;34m'오감자'\u001b[0m\u001b[0;34m,\u001b[0m \u001b[0;34m'양파링'\u001b[0m\u001b[0;34m,\u001b[0m \u001b[0;34m'포카칩'\u001b[0m\u001b[0;34m,\u001b[0m \u001b[0;34m'양파링'\u001b[0m\u001b[0;34m}\u001b[0m\u001b[0;34m\u001b[0m\u001b[0;34m\u001b[0m\u001b[0m\n\u001b[0;32m----> 2\u001b[0;31m \u001b[0mset_wish\u001b[0m\u001b[0;34m.\u001b[0m\u001b[0mremove\u001b[0m\u001b[0;34m(\u001b[0m\u001b[0;34m'오'\u001b[0m\u001b[0;34m)\u001b[0m\u001b[0;34m\u001b[0m\u001b[0;34m\u001b[0m\u001b[0m\n\u001b[0m\u001b[1;32m      3\u001b[0m \u001b[0mprint\u001b[0m\u001b[0;34m(\u001b[0m\u001b[0mset_wish\u001b[0m\u001b[0;34m)\u001b[0m\u001b[0;34m\u001b[0m\u001b[0;34m\u001b[0m\u001b[0m\n",
            "\u001b[0;31mKeyError\u001b[0m: '오'"
          ]
        }
      ]
    },
    {
      "cell_type": "markdown",
      "metadata": {
        "id": "DlaUjRp6nWYA"
      },
      "source": [
        "# 2. 조건문"
      ]
    },
    {
      "cell_type": "markdown",
      "metadata": {
        "id": "eBn_uURzDYaK"
      },
      "source": [
        "## if 단문 구조"
      ]
    },
    {
      "cell_type": "code",
      "metadata": {
        "colab": {
          "base_uri": "https://localhost:8080/"
        },
        "id": "HRoTsuKNnWt3",
        "outputId": "550a24ce-7bdd-49a8-8dc9-4fe3160bd062"
      },
      "source": [
        "# if단문\n",
        "\n",
        "a = 1\n",
        "\n",
        "if a < 0 :\n",
        "    print('a는 0보다 작다.')\n",
        "    print('a는 음수이다.')\n",
        "        # a가 0보다 크므로 if문 안의 문장들은 하나도 실행되지 않는다.\n",
        "print('끝')\n",
        "\n",
        "# if 들여쓰기 실험해보기\n",
        "a = 1\n",
        "\n",
        "if a < 0 :\n",
        "    print('a는 0보다 작다.')\n",
        "print('a는 음수이다.')          # if로부터 떼놓은 상태에서, 이 문장은 그냥 ''안의 str을 출력시키는 코드에 불과하다.\n",
        "print('끝')"
      ],
      "execution_count": null,
      "outputs": [
        {
          "output_type": "stream",
          "text": [
            "끝\n"
          ],
          "name": "stdout"
        }
      ]
    },
    {
      "cell_type": "markdown",
      "metadata": {
        "id": "t1SCXqzWDMrL"
      },
      "source": [
        "### 예제. 코로나 자가진단 프로그램 1단계\n",
        "\n",
        "체온을 입력받아, 체온이 37.5도 초과이면 '등교 불가'를 출력하는 프로그램을 작성하시오.\n",
        "\n",
        "    1. 문제를 분석한다.\n",
        "    2. 알고리즘을 생각한다.\n",
        "    3. 코딩한다."
      ]
    },
    {
      "cell_type": "code",
      "metadata": {
        "colab": {
          "base_uri": "https://localhost:8080/"
        },
        "id": "6TVqEEDZnXAi",
        "outputId": "6dba63bd-4fe3-4179-b89b-93c84453c9af"
      },
      "source": [
        "# 예제. 코로나 자가진단 프로그램 1단계\n",
        "\n",
        "temp = float(input('체온: '))\n",
        "if temp > 37.5: \n",
        "    print('등교불가')\n",
        "\n"
      ],
      "execution_count": null,
      "outputs": [
        {
          "output_type": "stream",
          "text": [
            "a는 음수이다.\n",
            "끝\n"
          ],
          "name": "stdout"
        }
      ]
    },
    {
      "cell_type": "markdown",
      "metadata": {
        "id": "Hf6C_4l-DcPB"
      },
      "source": [
        "## if~else 구조"
      ]
    },
    {
      "cell_type": "code",
      "metadata": {
        "colab": {
          "base_uri": "https://localhost:8080/"
        },
        "id": "W3g4kBzgnaZI",
        "outputId": "098c687f-bded-423e-addf-39d33d896e12"
      },
      "source": [
        "# if~else 구조 기본\n",
        "\n",
        "a = 5\n",
        "b = 4\n",
        "\n",
        "if a%b == 0 :       # %는 나머지\n",
        "    print(f'{a}는 {b}로 나누어 떨어집니다')\n",
        "else : \n",
        "    print(f'{a}는 {b}로 나머지가 {a % b} 입니다')"
      ],
      "execution_count": null,
      "outputs": [
        {
          "output_type": "stream",
          "text": [
            "5는 4로 나머지가 1 입니다\n"
          ],
          "name": "stdout"
        }
      ]
    },
    {
      "cell_type": "markdown",
      "metadata": {
        "id": "m_tngEpsD1__"
      },
      "source": [
        "## if-elif-else 구조\n"
      ]
    },
    {
      "cell_type": "code",
      "metadata": {
        "id": "zdDpiYXcD2QD"
      },
      "source": [
        ""
      ],
      "execution_count": null,
      "outputs": []
    },
    {
      "cell_type": "markdown",
      "metadata": {
        "id": "HnqrTIGkD2m6"
      },
      "source": [
        "### 예제. 코로나 자가진단 프로그램 3단계(1/3) - 문제분석\n",
        "\n",
        "- 입력 : 체온, 검사결과 대기여부, 자가격리여부를 입력받아 다음과 같은 조건으로 등교 가능 여부를 출력하세요.\n",
        "- if : 만약 체온이 37.5도 초과이면 '발열기준 초과: 등교불가'를 출력\n",
        "- elif : \n",
        "- elif : \n",
        "- else : 모든 조건이 만족하지 않는다면, '등교가능'을 출력한다.\n"
      ]
    },
    {
      "cell_type": "code",
      "metadata": {
        "colab": {
          "base_uri": "https://localhost:8080/"
        },
        "id": "ZK8F9g6SD256",
        "outputId": "b6e37b09-7732-4f14-fe57-50dca511503d"
      },
      "source": [
        "temp = float(input('체온: '))\n",
        "waiting = input('검사대기 중인가요? (y/n): ')\n",
        "quarantine = input('자가격리 중인가요? (y/n): ')\n",
        "\n",
        "print('-' * 50)\n",
        "\n",
        "if temp > 37.5 : \n",
        "    print('발열기준 초과: 등교불가')\n",
        "elif waiting == 'y' : \n",
        "    print('검사대기 중 등교불가')\n",
        "elif quarantine == 'y' : \n",
        "    print('자가격리 중 등교불가')\n",
        "else :\n",
        "    print('등교가능')"
      ],
      "execution_count": null,
      "outputs": [
        {
          "output_type": "stream",
          "text": [
            "체온: 34.5\n",
            "검사대기 중인가요? (y/n): y\n",
            "자가격리 중인가요? (y/n): n\n",
            "--------------------------------------------------\n",
            "검사대기 중 등교불가\n"
          ],
          "name": "stdout"
        }
      ]
    },
    {
      "cell_type": "markdown",
      "metadata": {
        "id": "sG720HkPGHZe"
      },
      "source": [
        "## 예제. 점수에 따른 등급 출력하기"
      ]
    },
    {
      "cell_type": "code",
      "metadata": {
        "colab": {
          "base_uri": "https://localhost:8080/"
        },
        "id": "2wmo5OsvGH0Z",
        "outputId": "13ad70cc-09c2-43d0-f0b2-bc78f041cff3"
      },
      "source": [
        "# 내 코드\n",
        "\n",
        "score = int(input('점수: '))\n",
        "\n",
        "if score >= 90 : \n",
        "    print('A등급')\n",
        "elif score >= 80 :\n",
        "    print('B등급')\n",
        "elif score >= 70 : \n",
        "    print('C등급')\n",
        "elif score >= 60 : \n",
        "    print('D등급')\n",
        "else : \n",
        "    print('F등급')"
      ],
      "execution_count": null,
      "outputs": [
        {
          "output_type": "stream",
          "text": [
            "점수: 99\n",
            "A등급\n"
          ],
          "name": "stdout"
        }
      ]
    },
    {
      "cell_type": "code",
      "metadata": {
        "id": "yIbRwp3WG3Kd"
      },
      "source": [
        "grade = ' '\n",
        "    # 초기값을 주어서 그냥 안전처리.\n"
      ],
      "execution_count": null,
      "outputs": []
    },
    {
      "cell_type": "markdown",
      "metadata": {
        "id": "2ynngDLqHHY0"
      },
      "source": [
        "## 예제. 금액에 따른 할인율 계산하기"
      ]
    },
    {
      "cell_type": "code",
      "metadata": {
        "colab": {
          "base_uri": "https://localhost:8080/"
        },
        "id": "GjspcrcAHHrJ",
        "outputId": "584f50eb-e177-4dfe-b6a6-4661671ebf2a"
      },
      "source": [
        "# 내 코드\n",
        "\n",
        "# 1. 물건 구매가 입력받기\n",
        "# 2. 금액에 따른 할인율 계산\n",
        "# 3. 구매가, 할인율, 할인금액, 지불금액을 출력\n",
        "\n",
        "price = int(input('물건의 소매자가격을 입력하세요: '))\n",
        "cut = 0\n",
        "actual = 0\n",
        "\n",
        "if price >= 100000 :\n",
        "    cut = 10\n",
        "elif price >= 50000 : \n",
        "    cut = 7.5\n",
        "elif price >= 10000 : \n",
        "    cut = 5\n",
        "else :\n",
        "    cut = 0\n",
        "\n",
        "actual = price - price/100*cut\n",
        "\n",
        "print('소매자가격: ', price, '원')\n",
        "print('할인율: ', cut, '%')\n",
        "print('할인금액: ', price/100*cut, '원')\n",
        "print('할인된 가격: ', actual, '원')"
      ],
      "execution_count": null,
      "outputs": [
        {
          "output_type": "stream",
          "text": [
            "물건의 소매자가격을 입력하세요: 60000\n",
            "소매자가격:  60000 원\n",
            "할인율:  7.5 %\n",
            "할인금액:  4500.0 원\n",
            "할인된 가격:  55500.0 원\n"
          ],
          "name": "stdout"
        }
      ]
    },
    {
      "cell_type": "code",
      "metadata": {
        "colab": {
          "base_uri": "https://localhost:8080/",
          "height": 528
        },
        "id": "nRC7YKdLJB1i",
        "outputId": "f21467ec-9a95-49dc-9506-e4701e98d369"
      },
      "source": [
        "# 선생님의 코드\n",
        "\n",
        "buy = int(input('물건 구매가를 입력하세요: '))\n",
        "\n",
        "\n",
        "\n",
        "print(f'구매가: {buy}원')\n",
        "print(f'할인율: {dc}%')\n",
        "print(f'할인금액: {int(buy*(dc/100))}원')\n",
        "print(f'지불금액: {int(buy - buy * (dc/100))}원')"
      ],
      "execution_count": null,
      "outputs": [
        {
          "output_type": "error",
          "ename": "KeyboardInterrupt",
          "evalue": "ignored",
          "traceback": [
            "\u001b[0;31m---------------------------------------------------------------------------\u001b[0m",
            "\u001b[0;31mKeyboardInterrupt\u001b[0m                         Traceback (most recent call last)",
            "\u001b[0;32m/usr/local/lib/python3.7/dist-packages/ipykernel/kernelbase.py\u001b[0m in \u001b[0;36m_input_request\u001b[0;34m(self, prompt, ident, parent, password)\u001b[0m\n\u001b[1;32m    728\u001b[0m             \u001b[0;32mtry\u001b[0m\u001b[0;34m:\u001b[0m\u001b[0;34m\u001b[0m\u001b[0;34m\u001b[0m\u001b[0m\n\u001b[0;32m--> 729\u001b[0;31m                 \u001b[0mident\u001b[0m\u001b[0;34m,\u001b[0m \u001b[0mreply\u001b[0m \u001b[0;34m=\u001b[0m \u001b[0mself\u001b[0m\u001b[0;34m.\u001b[0m\u001b[0msession\u001b[0m\u001b[0;34m.\u001b[0m\u001b[0mrecv\u001b[0m\u001b[0;34m(\u001b[0m\u001b[0mself\u001b[0m\u001b[0;34m.\u001b[0m\u001b[0mstdin_socket\u001b[0m\u001b[0;34m,\u001b[0m \u001b[0;36m0\u001b[0m\u001b[0;34m)\u001b[0m\u001b[0;34m\u001b[0m\u001b[0;34m\u001b[0m\u001b[0m\n\u001b[0m\u001b[1;32m    730\u001b[0m             \u001b[0;32mexcept\u001b[0m \u001b[0mException\u001b[0m\u001b[0;34m:\u001b[0m\u001b[0;34m\u001b[0m\u001b[0;34m\u001b[0m\u001b[0m\n",
            "\u001b[0;32m/usr/local/lib/python3.7/dist-packages/jupyter_client/session.py\u001b[0m in \u001b[0;36mrecv\u001b[0;34m(self, socket, mode, content, copy)\u001b[0m\n\u001b[1;32m    802\u001b[0m         \u001b[0;32mtry\u001b[0m\u001b[0;34m:\u001b[0m\u001b[0;34m\u001b[0m\u001b[0;34m\u001b[0m\u001b[0m\n\u001b[0;32m--> 803\u001b[0;31m             \u001b[0mmsg_list\u001b[0m \u001b[0;34m=\u001b[0m \u001b[0msocket\u001b[0m\u001b[0;34m.\u001b[0m\u001b[0mrecv_multipart\u001b[0m\u001b[0;34m(\u001b[0m\u001b[0mmode\u001b[0m\u001b[0;34m,\u001b[0m \u001b[0mcopy\u001b[0m\u001b[0;34m=\u001b[0m\u001b[0mcopy\u001b[0m\u001b[0;34m)\u001b[0m\u001b[0;34m\u001b[0m\u001b[0;34m\u001b[0m\u001b[0m\n\u001b[0m\u001b[1;32m    804\u001b[0m         \u001b[0;32mexcept\u001b[0m \u001b[0mzmq\u001b[0m\u001b[0;34m.\u001b[0m\u001b[0mZMQError\u001b[0m \u001b[0;32mas\u001b[0m \u001b[0me\u001b[0m\u001b[0;34m:\u001b[0m\u001b[0;34m\u001b[0m\u001b[0;34m\u001b[0m\u001b[0m\n",
            "\u001b[0;32m/usr/local/lib/python3.7/dist-packages/zmq/sugar/socket.py\u001b[0m in \u001b[0;36mrecv_multipart\u001b[0;34m(self, flags, copy, track)\u001b[0m\n\u001b[1;32m    582\u001b[0m         \"\"\"\n\u001b[0;32m--> 583\u001b[0;31m         \u001b[0mparts\u001b[0m \u001b[0;34m=\u001b[0m \u001b[0;34m[\u001b[0m\u001b[0mself\u001b[0m\u001b[0;34m.\u001b[0m\u001b[0mrecv\u001b[0m\u001b[0;34m(\u001b[0m\u001b[0mflags\u001b[0m\u001b[0;34m,\u001b[0m \u001b[0mcopy\u001b[0m\u001b[0;34m=\u001b[0m\u001b[0mcopy\u001b[0m\u001b[0;34m,\u001b[0m \u001b[0mtrack\u001b[0m\u001b[0;34m=\u001b[0m\u001b[0mtrack\u001b[0m\u001b[0;34m)\u001b[0m\u001b[0;34m]\u001b[0m\u001b[0;34m\u001b[0m\u001b[0;34m\u001b[0m\u001b[0m\n\u001b[0m\u001b[1;32m    584\u001b[0m         \u001b[0;31m# have first part already, only loop while more to receive\u001b[0m\u001b[0;34m\u001b[0m\u001b[0;34m\u001b[0m\u001b[0;34m\u001b[0m\u001b[0m\n",
            "\u001b[0;32mzmq/backend/cython/socket.pyx\u001b[0m in \u001b[0;36mzmq.backend.cython.socket.Socket.recv\u001b[0;34m()\u001b[0m\n",
            "\u001b[0;32mzmq/backend/cython/socket.pyx\u001b[0m in \u001b[0;36mzmq.backend.cython.socket.Socket.recv\u001b[0;34m()\u001b[0m\n",
            "\u001b[0;32mzmq/backend/cython/socket.pyx\u001b[0m in \u001b[0;36mzmq.backend.cython.socket._recv_copy\u001b[0;34m()\u001b[0m\n",
            "\u001b[0;32m/usr/local/lib/python3.7/dist-packages/zmq/backend/cython/checkrc.pxd\u001b[0m in \u001b[0;36mzmq.backend.cython.checkrc._check_rc\u001b[0;34m()\u001b[0m\n",
            "\u001b[0;31mKeyboardInterrupt\u001b[0m: ",
            "\nDuring handling of the above exception, another exception occurred:\n",
            "\u001b[0;31mKeyboardInterrupt\u001b[0m                         Traceback (most recent call last)",
            "\u001b[0;32m<ipython-input-49-6b2eb2dc9aab>\u001b[0m in \u001b[0;36m<module>\u001b[0;34m()\u001b[0m\n\u001b[1;32m      1\u001b[0m \u001b[0;31m# 선생님의 코드\u001b[0m\u001b[0;34m\u001b[0m\u001b[0;34m\u001b[0m\u001b[0;34m\u001b[0m\u001b[0m\n\u001b[1;32m      2\u001b[0m \u001b[0;34m\u001b[0m\u001b[0m\n\u001b[0;32m----> 3\u001b[0;31m \u001b[0mbuy\u001b[0m \u001b[0;34m=\u001b[0m \u001b[0mint\u001b[0m\u001b[0;34m(\u001b[0m\u001b[0minput\u001b[0m\u001b[0;34m(\u001b[0m\u001b[0;34m'물건 구매가를 입력하세요: '\u001b[0m\u001b[0;34m)\u001b[0m\u001b[0;34m)\u001b[0m\u001b[0;34m\u001b[0m\u001b[0;34m\u001b[0m\u001b[0m\n\u001b[0m\u001b[1;32m      4\u001b[0m \u001b[0;34m\u001b[0m\u001b[0m\n\u001b[1;32m      5\u001b[0m \u001b[0;34m\u001b[0m\u001b[0m\n",
            "\u001b[0;32m/usr/local/lib/python3.7/dist-packages/ipykernel/kernelbase.py\u001b[0m in \u001b[0;36mraw_input\u001b[0;34m(self, prompt)\u001b[0m\n\u001b[1;32m    702\u001b[0m             \u001b[0mself\u001b[0m\u001b[0;34m.\u001b[0m\u001b[0m_parent_ident\u001b[0m\u001b[0;34m,\u001b[0m\u001b[0;34m\u001b[0m\u001b[0;34m\u001b[0m\u001b[0m\n\u001b[1;32m    703\u001b[0m             \u001b[0mself\u001b[0m\u001b[0;34m.\u001b[0m\u001b[0m_parent_header\u001b[0m\u001b[0;34m,\u001b[0m\u001b[0;34m\u001b[0m\u001b[0;34m\u001b[0m\u001b[0m\n\u001b[0;32m--> 704\u001b[0;31m             \u001b[0mpassword\u001b[0m\u001b[0;34m=\u001b[0m\u001b[0;32mFalse\u001b[0m\u001b[0;34m,\u001b[0m\u001b[0;34m\u001b[0m\u001b[0;34m\u001b[0m\u001b[0m\n\u001b[0m\u001b[1;32m    705\u001b[0m         )\n\u001b[1;32m    706\u001b[0m \u001b[0;34m\u001b[0m\u001b[0m\n",
            "\u001b[0;32m/usr/local/lib/python3.7/dist-packages/ipykernel/kernelbase.py\u001b[0m in \u001b[0;36m_input_request\u001b[0;34m(self, prompt, ident, parent, password)\u001b[0m\n\u001b[1;32m    732\u001b[0m             \u001b[0;32mexcept\u001b[0m \u001b[0mKeyboardInterrupt\u001b[0m\u001b[0;34m:\u001b[0m\u001b[0;34m\u001b[0m\u001b[0;34m\u001b[0m\u001b[0m\n\u001b[1;32m    733\u001b[0m                 \u001b[0;31m# re-raise KeyboardInterrupt, to truncate traceback\u001b[0m\u001b[0;34m\u001b[0m\u001b[0;34m\u001b[0m\u001b[0;34m\u001b[0m\u001b[0m\n\u001b[0;32m--> 734\u001b[0;31m                 \u001b[0;32mraise\u001b[0m \u001b[0mKeyboardInterrupt\u001b[0m\u001b[0;34m\u001b[0m\u001b[0;34m\u001b[0m\u001b[0m\n\u001b[0m\u001b[1;32m    735\u001b[0m             \u001b[0;32melse\u001b[0m\u001b[0;34m:\u001b[0m\u001b[0;34m\u001b[0m\u001b[0;34m\u001b[0m\u001b[0m\n\u001b[1;32m    736\u001b[0m                 \u001b[0;32mbreak\u001b[0m\u001b[0;34m\u001b[0m\u001b[0;34m\u001b[0m\u001b[0m\n",
            "\u001b[0;31mKeyboardInterrupt\u001b[0m: "
          ]
        }
      ]
    },
    {
      "cell_type": "markdown",
      "metadata": {
        "id": "CdFFKj6YHfyY"
      },
      "source": [
        ""
      ]
    },
    {
      "cell_type": "code",
      "metadata": {
        "colab": {
          "base_uri": "https://localhost:8080/"
        },
        "id": "f_bsEoSKKn7l",
        "outputId": "4de7ee39-b5b5-4b57-8850-826b39eb0a8a"
      },
      "source": [
        "# 3팀 전승혜님 코드\n",
        "\n",
        "price = int(input('물건 구매가를 입력하세요: '))\n",
        "\n",
        "if price >= 100000:\n",
        "    per = 0.1\n",
        "elif price >= 50000:\n",
        "    per = 0.075\n",
        "elif price >= 10000:\n",
        "    per = 0.05\n",
        "else:\n",
        "    per = 0   #구간에 없는 부분도 신경쓰자\n",
        "\n",
        "dc = price*per\n",
        "\n",
        "print(f'구매가: {price}원')\n",
        "print(f'할인율: {per*100}%')\n",
        "print(f'할인금액: {int(dc)}원')   #int를 씌워서 소수점 아래는 버리고 깔끔하게 나오기 위함\n",
        "print(f'지불금액: {int(price-dc)}원')"
      ],
      "execution_count": null,
      "outputs": [
        {
          "output_type": "stream",
          "text": [
            "물건 구매가를 입력하세요: 10000000\n",
            "구매가: 10000000원\n",
            "할인율: 10.0%\n",
            "할인금액: 1000000원\n",
            "지불금액: 9000000원\n"
          ],
          "name": "stdout"
        }
      ]
    },
    {
      "cell_type": "code",
      "metadata": {
        "colab": {
          "base_uri": "https://localhost:8080/"
        },
        "id": "TDyXBC0sMSEp",
        "outputId": "c1844190-af25-4b63-d763-f18a0883244e"
      },
      "source": [
        "price=int(input('물건 구매가를 입력하세요: '))\n",
        "discount = 0\n",
        "\n",
        "if price>100000:\n",
        "    discount=price*0.1\n",
        "elif price>50000:\n",
        "    discount=price*0.075\n",
        "elif price>10000:\n",
        "    discount=price*0.05\n",
        "\n",
        "print(f'구매금액: {price}원')\n",
        "print(f'할인율: {discount/price}%')\n",
        "print(f'할인금액: {int(discount)}원')\n",
        "print(f'지불금액: {int(price-discount)}원')"
      ],
      "execution_count": null,
      "outputs": [
        {
          "output_type": "stream",
          "text": [
            "물건 구매가를 입력하세요: 300000\n",
            "구매금액: 300000원\n",
            "할인율: 0.1%\n",
            "할인금액: 30000원\n",
            "지불금액: 270000원\n"
          ],
          "name": "stdout"
        }
      ]
    },
    {
      "cell_type": "markdown",
      "metadata": {
        "id": "g9h1Ogg-KwcR"
      },
      "source": [
        "## 예제. 최소값 구하기(1/3)\n",
        "3개의 수를 입력받아 가장 작은 수를 출력하세요"
      ]
    },
    {
      "cell_type": "code",
      "metadata": {
        "colab": {
          "base_uri": "https://localhost:8080/"
        },
        "id": "6q56giahKn0h",
        "outputId": "575515aa-e2cc-4ea6-f4d5-392fca48d4e9"
      },
      "source": [
        "# 내 코드\n",
        "#1. 3개의 수를 입력받기\n",
        "#2. 가장 작은 수를 확인하기\n",
        "    # if, elif 문을 쓰면 안된다. 순서대로 정렬되어있지 않으니까.\n",
        "    # 순서대로 정렬되어있다면 문제가 없는데... input 받을땐 순서대로 받는것만은 아니니까.\n",
        "#3. 출력하기\n",
        "\n",
        "n1 = int(input('숫자 1: '))\n",
        "n2 = int(input('숫자 2: '))\n",
        "n3 = int(input('숫자 3: '))\n",
        "\n",
        "min1 = n1\n",
        "\n",
        "if min1 > n2 :\n",
        "    min1 = n2\n",
        "if min1 > n3 : \n",
        "    min1 = n3\n",
        "\n",
        "print('가장 작은 수:', min1)"
      ],
      "execution_count": null,
      "outputs": [
        {
          "output_type": "stream",
          "text": [
            "숫자 1: 11\n",
            "숫자 2: 22\n",
            "숫자 3: 33\n",
            "가장 작은 수: 11\n"
          ],
          "name": "stdout"
        }
      ]
    },
    {
      "cell_type": "code",
      "metadata": {
        "id": "Bmk56Tk5Kw2K"
      },
      "source": [
        "# 선생님 코드\n",
        "\n",
        "n1 = int(input('숫자 1: '))\n",
        "n2 = int(input('숫자 2: '))\n",
        "n3 = int(input('숫자 3: '))\n",
        "\n",
        "min1 = n1\n",
        "if n2 < min1 : \n",
        "    min1 = n2\n",
        "if n3 < min1 :          # 여기에 elif를 써버리면 문제가 생긴다. n1이 n2보다 작은데 n3보다는 클 경우, elif는 지나쳐버린다. \n",
        "    min1 = n3\n",
        "\n",
        "print('가장 작은 수:', min1)\n"
      ],
      "execution_count": null,
      "outputs": []
    },
    {
      "cell_type": "code",
      "metadata": {
        "colab": {
          "base_uri": "https://localhost:8080/"
        },
        "id": "xzSYivz4RFFg",
        "outputId": "2907c6a9-0e2c-4d88-ed92-e6256c430257"
      },
      "source": [
        "# 선생님 코드: min 함수 쓰기\n",
        "\n",
        "n1 = int(input('숫자 1: '))\n",
        "n2 = int(input('숫자 2: '))\n",
        "n3 = int(input('숫자 3: '))\n",
        "\n",
        "min_n = min(n1,n2,n3)\n",
        "\n",
        "print('가장 작은 수:', min_n)"
      ],
      "execution_count": null,
      "outputs": [
        {
          "output_type": "stream",
          "text": [
            "숫자 1: 30\n",
            "숫자 2: 2\n",
            "숫자 3: 60\n",
            "가장 작은 수: 2\n"
          ],
          "name": "stdout"
        }
      ]
    },
    {
      "cell_type": "markdown",
      "metadata": {
        "id": "F-YqoZbQRXv3"
      },
      "source": [
        "# ★ 논리연산자 (논리곱, 논리합...)"
      ]
    },
    {
      "cell_type": "markdown",
      "metadata": {
        "id": "peqdvhP5TEyc"
      },
      "source": [
        "## and, or, not\n",
        "- x and y : x, y 모두 True일 때만 ➡ True\n",
        "- x or y : x, y 둘 중 하나 이상이 True이면 ➡ True\n",
        "- not x : x가 거짓이면 참임. 결과를 반대로 출력"
      ]
    },
    {
      "cell_type": "code",
      "metadata": {
        "colab": {
          "base_uri": "https://localhost:8080/"
        },
        "id": "q7Yl20mmRc3H",
        "outputId": "1b41d695-6324-4b4a-e228-0fc26ec95265"
      },
      "source": [
        "# 논리 연산자(Logical Operator)\n",
        "# and, or, not\n",
        "\n",
        "print('True and True: ', True and True)\n",
        "print('True and False: ', True and False)\n",
        "print(False and True)\n",
        "print(False and False)\n",
        "print()\n",
        "print(True or True)\n",
        "print(True or False)\n",
        "print(False or True)\n",
        "print(False or False)\n",
        "print()\n",
        "print(not True)\n",
        "print(not False)"
      ],
      "execution_count": null,
      "outputs": [
        {
          "output_type": "stream",
          "text": [
            "True and True:  True\n",
            "True and False:  False\n",
            "False\n",
            "False\n",
            "\n",
            "True\n",
            "True\n",
            "True\n",
            "False\n",
            "\n",
            "False\n",
            "True\n"
          ],
          "name": "stdout"
        }
      ]
    },
    {
      "cell_type": "markdown",
      "metadata": {
        "id": "2iHBrRCrTEKu"
      },
      "source": [
        "## in, not in\n",
        "- in\n",
        "- not in"
      ]
    },
    {
      "cell_type": "code",
      "metadata": {
        "colab": {
          "base_uri": "https://localhost:8080/"
        },
        "id": "gt79ROR-RdIf",
        "outputId": "e5f928aa-d124-49dc-b306-54a0a4088061"
      },
      "source": [
        "print('1 in [1,2,3]: ', 1 in [1,2,3])\n",
        "print('\"a\" in (\"a\",\"b\",\"c\"): ', 'a' in ('a','b','c'))\n",
        "print('\"j\" not in \"python\": ', 'j' not in 'python')"
      ],
      "execution_count": null,
      "outputs": [
        {
          "output_type": "stream",
          "text": [
            "1 in [1,2,3]:  True\n",
            "\"a\" in (\"a\",\"b\",\"c\"):  True\n",
            "\"j\" not in \"python\":  True\n"
          ],
          "name": "stdout"
        }
      ]
    },
    {
      "cell_type": "markdown",
      "metadata": {
        "id": "xlimYWJUTs7Y"
      },
      "source": [
        "## 예제. 국립공원 입장료 계산기"
      ]
    },
    {
      "cell_type": "code",
      "metadata": {
        "colab": {
          "base_uri": "https://localhost:8080/"
        },
        "id": "EgpgVMnLTtKn",
        "outputId": "6db286ef-3bec-405c-b5d5-fd7bcd1bcbe7"
      },
      "source": [
        "# 내 코드\n",
        "\n",
        "#1. 나이를 입력받기\n",
        "#2. 입장료 3000원\n",
        "#3. 나이가 65세 이상이거나 7세 이하인 경우에는 무료\n",
        "#4. 나이 8세~18세는 청소년요금인 1000원\n",
        "\n",
        "age = int(input('나이를 입력하세요:'))\n",
        "term = '일반요금'\n",
        "entry = 3000\n",
        "\n",
        "if age >= 65 or age <= 7 :\n",
        "    term = '무상요금'\n",
        "    entry = 0\n",
        "elif age >= 8 and age <= 18 :\n",
        "    term = '청소년요금'\n",
        "    entry = 1000\n",
        "\n",
        "print(f'입장료는 {term} {entry}원 입니다.')"
      ],
      "execution_count": null,
      "outputs": [
        {
          "output_type": "stream",
          "text": [
            "나이를 입력하세요:19\n",
            "입장료는 일반요금 3000원 입니다.\n"
          ],
          "name": "stdout"
        }
      ]
    },
    {
      "cell_type": "markdown",
      "metadata": {
        "id": "um5kigA_Ts4Q"
      },
      "source": [
        "## 예제. 로그인 프로그램(1/2)"
      ]
    },
    {
      "cell_type": "code",
      "metadata": {
        "colab": {
          "base_uri": "https://localhost:8080/"
        },
        "id": "wiadHTyXWiKP",
        "outputId": "0e22688f-2a67-4834-f970-426a86bea37d"
      },
      "source": [
        "# 내 코드\n",
        "\n",
        "#1. 사용자로부터 아이디 / 패스워드 받기\n",
        "#2. 프로그램에 저장된 아이디/패스워드와 일치여부 검사\n",
        "#3. 로그인/로그인실패 출력\n",
        "\n",
        "# 유저 id와 input은 달라야할것이다. 변수명 따로 줘야됨.\n",
        "\n",
        "input_id = input('ID를 입력해주세요: ')\n",
        "input_pass = input('비밀번호를 입력해주세요: ')\n",
        "\n",
        "data_id = 'ID1234'\n",
        "data_pass = 'PWD1234'\n",
        "\n",
        "if not input_id == data_id : \n",
        "    print('로그인 실패. 아이디를 확인해주세요.')\n",
        "elif not input_pass == data_pass :\n",
        "    print('로그인 실패. 비밀번호를 확인해주세요.')\n",
        "elif input_id == data_id and input_pass == data_pass :\n",
        "    print('로그인 성공')"
      ],
      "execution_count": null,
      "outputs": [
        {
          "output_type": "stream",
          "text": [
            "ID를 입력해주세요: ID1\n",
            "비밀번호를 입력해주세요: PW1\n",
            "로그인 실패. 아이디를 확인해주세요.\n"
          ],
          "name": "stdout"
        }
      ]
    },
    {
      "cell_type": "markdown",
      "metadata": {
        "id": "m-HU-KyrWcE3"
      },
      "source": [
        "## 예제. 사칙연산 프로그램"
      ]
    },
    {
      "cell_type": "code",
      "metadata": {
        "colab": {
          "base_uri": "https://localhost:8080/"
        },
        "id": "VR4PNALHWcrX",
        "outputId": "bc4e1491-f372-4d18-d552-ee0a633cc129"
      },
      "source": [
        "# 내 코드\n",
        "#1. 두 수와 사칙연산기호(+,-,*,/)를 입력받기\n",
        "#2. 연산 기호 확인\n",
        "#3. 연산결과 출력\n",
        "\n",
        "num1 = int(input('첫번째 숫자 입력: '))\n",
        "num2 = int(input('두번째 숫자 입력: '))\n",
        "oper = input('연산기호 입력: (+,-,*,/)')\n",
        "\n",
        "if oper == '+' : \n",
        "    print(f'{num1} + {num2}는 {num1 + num2}')\n",
        "if oper == '-' : \n",
        "    print(f'{num1} - {num2}는 {num1 - num2}')\n",
        "if oper == '*' : \n",
        "    if num1 == 0 or num2 == 0 :\n",
        "        print(f'{num1} * {num2}는 0')                   # 이건 필요없었던듯.\n",
        "    else : \n",
        "        print(f'{num1} * {num2}는 {num1 * num2}')\n",
        "if oper == '/' : \n",
        "    if num2 == 0 :                                      #나누기는 숫자2가 0이 아닐때만 나누기를 수행하면 된다.\n",
        "        print(f'{num1} / {num2}는 나눌 수 없음.')\n",
        "    else : \n",
        "        print(f'{num1} / {num2}는 {round(num1 / num2, 3)}')"
      ],
      "execution_count": null,
      "outputs": [
        {
          "output_type": "stream",
          "text": [
            "첫번째 숫자 입력: 0\n",
            "두번째 숫자 입력: 5\n",
            "연산기호 입력: (+,-,*,/)/\n",
            "0 / 5는 0.0\n"
          ],
          "name": "stdout"
        }
      ]
    },
    {
      "cell_type": "code",
      "metadata": {
        "colab": {
          "base_uri": "https://localhost:8080/"
        },
        "id": "qz2sNqKucMoe",
        "outputId": "0b7c6b06-e049-44db-e95a-f440bfd38f02"
      },
      "source": [
        "# 선생님 코드\n",
        "\n",
        "# 입력\n",
        "num1 = int(input('첫번째 숫자 입력: '))\n",
        "num2 = int(input('두번째 숫자 입력: '))\n",
        "oper = input('연산기호 입력: (+,-,*,/)')\n",
        "result = 0\n",
        "\n",
        "# 처리\n",
        "if oper == '+' : \n",
        "    result = num1 + num2\n",
        "elif oper == '-' : \n",
        "    result = num1 - num2\n",
        "elif oper == '*' : \n",
        "    result = num1 * num2\n",
        "elif oper == '/' : \n",
        "    if num2 != 0 :\n",
        "        result = num1 / num2\n",
        "\n",
        "# 출력\n",
        "print('-' * 30)\n",
        "if oper == '/' and num2 == 0 :\n",
        "    print('0으로 나눌 수 없습니다')\n",
        "else :\n",
        "    print(f'{num1} {oper} {num2} = {result}')"
      ],
      "execution_count": null,
      "outputs": [
        {
          "output_type": "stream",
          "text": [
            "첫번째 숫자 입력: 0\n",
            "두번째 숫자 입력: 0\n",
            "연산기호 입력: (+,-,*,/)*\n",
            "------------------------------\n",
            "0 * 0 = 0\n"
          ],
          "name": "stdout"
        }
      ]
    },
    {
      "cell_type": "code",
      "metadata": {
        "colab": {
          "base_uri": "https://localhost:8080/"
        },
        "id": "HuxjKz0tdZch",
        "outputId": "8ff9a3cb-494d-44cb-db6c-6d07c905995e"
      },
      "source": [
        "# 선생님 코드 if문 버전\n",
        "# 가능은 한데, elif가 좀더 경제적일 수 있음.\n",
        "\n",
        "num1 = int(input('첫번째 숫자 입력: '))\n",
        "num2 = int(input('두번째 숫자 입력: '))\n",
        "oper = input('연산기호 입력: (+,-,*,/)')\n",
        "result = 0\n",
        "\n",
        "# 처리\n",
        "if oper == '+' : \n",
        "    result = num1 + num2\n",
        "if oper == '-' : \n",
        "    result = num1 - num2\n",
        "if oper == '*' : \n",
        "    result = num1 * num2\n",
        "if oper == '/' : \n",
        "    if num2 != 0 :\n",
        "        result = num1 / num2\n",
        "    else : \n",
        "        result = None\n",
        "\n",
        "# 출력\n",
        "print('-' * 30)\n",
        "print(f'{num1} {oper} {num2} = {result}')"
      ],
      "execution_count": null,
      "outputs": [
        {
          "output_type": "stream",
          "text": [
            "첫번째 숫자 입력: 6\n",
            "두번째 숫자 입력: 0\n",
            "연산기호 입력: (+,-,*,/)/\n",
            "------------------------------\n",
            "6 / 0 = None\n"
          ],
          "name": "stdout"
        }
      ]
    },
    {
      "cell_type": "markdown",
      "metadata": {
        "id": "0uU6a7iOYplH"
      },
      "source": [
        "# [복습] 임의의 정수 만들기\n",
        "- random.randint(최소, 최대)"
      ]
    },
    {
      "cell_type": "code",
      "metadata": {
        "colab": {
          "base_uri": "https://localhost:8080/"
        },
        "id": "FwMxBYgWYqS2",
        "outputId": "e238c7f4-0cd1-4908-9d7f-1566f6a7ffb7"
      },
      "source": [
        "import random\n",
        "random.randint(1,6)"
      ],
      "execution_count": null,
      "outputs": [
        {
          "output_type": "execute_result",
          "data": {
            "text/plain": [
              "4"
            ]
          },
          "metadata": {
            "tags": []
          },
          "execution_count": 102
        }
      ]
    },
    {
      "cell_type": "markdown",
      "metadata": {
        "id": "h1sOi1fOfSlF"
      },
      "source": [
        "## 예제. 주사위 던지기 게임"
      ]
    },
    {
      "cell_type": "code",
      "metadata": {
        "colab": {
          "base_uri": "https://localhost:8080/"
        },
        "id": "eDx_D6lhfSUk",
        "outputId": "c6a3fbdf-b9b8-48cc-d9d2-4e5876d1e81b"
      },
      "source": [
        "# 내 코드\n",
        "#1. 두개의 주사위 던지기\n",
        "#2. 더 큰 수가 나오는 사람이 이기는 게임\n",
        "\n",
        "import random\n",
        "\n",
        "dice1 = random.randint(1,6)\n",
        "dice2 = random.randint(1,6)\n",
        "\n",
        "print('주사위1:', dice1)\n",
        "print('주사위2:', dice2)\n",
        "\n",
        "if dice1 > dice2 :\n",
        "    print(\"'주사위1'이 이겼습니다.\")\n",
        "elif dice1 < dice2 : \n",
        "    print(\"'주사위2'가 이겼습니다.\")\n",
        "else :\n",
        "    print(\"비겼습니다.\")\n"
      ],
      "execution_count": null,
      "outputs": [
        {
          "output_type": "stream",
          "text": [
            "주사위1: 5\n",
            "주사위2: 6\n",
            "'주사위2'가 이겼습니다.\n"
          ],
          "name": "stdout"
        }
      ]
    },
    {
      "cell_type": "code",
      "metadata": {
        "colab": {
          "base_uri": "https://localhost:8080/"
        },
        "id": "X55BnEe5hL6t",
        "outputId": "f5a2996c-1ff7-4b1d-f90c-62f82036d52f"
      },
      "source": [
        "# 자기 심화\n",
        "#3. 두 주사위 사이의 승률 구하기\n",
        "import random\n",
        "\n",
        "dice1 = 0\n",
        "dice2 = 0\n",
        "win1 = 0 \n",
        "win2 = 0\n",
        "draw = 0\n",
        "\n",
        "for i in range(10000) :\n",
        "    dice1 = random.randint(1,6)\n",
        "    dice2 = random.randint(1,6)\n",
        "    if dice1 > dice2 :\n",
        "        win1 += 1\n",
        "    elif dice1 < dice2 :\n",
        "        win2 += 1\n",
        "    elif dice1 == dice2 : \n",
        "        draw += 1\n",
        "\n",
        "print(f'''주사위1 승리 횟수 = {win1}\n",
        "주사위2 승리 횟수 = {win2}\n",
        "비긴 횟수 = {draw}\n",
        "승률 = {win1}:{win2}''')"
      ],
      "execution_count": null,
      "outputs": [
        {
          "output_type": "stream",
          "text": [
            "주사위1 승리 횟수 = 4123\n",
            "주사위2 승리 횟수 = 4212\n",
            "비긴 횟수 = 1665\n",
            "승률 = 4123:4212\n"
          ],
          "name": "stdout"
        }
      ]
    },
    {
      "cell_type": "code",
      "metadata": {
        "id": "LN97gQ1hlRdb"
      },
      "source": [
        "PlayerA = {'attack':100, 'defence':20, 'Health':10000}\n",
        "PlayerB = {'attack':20, 'defence':110, 'Health':10000}\n",
        "\n",
        "PlayerA.\n",
        "\n"
      ],
      "execution_count": null,
      "outputs": []
    },
    {
      "cell_type": "markdown",
      "metadata": {
        "id": "44t5d4g2m-CC"
      },
      "source": [
        "# ※ 예제"
      ]
    },
    {
      "cell_type": "markdown",
      "metadata": {
        "id": "dsEh4sv6nJuo"
      },
      "source": [
        "## 예제1. "
      ]
    },
    {
      "cell_type": "code",
      "metadata": {
        "colab": {
          "base_uri": "https://localhost:8080/"
        },
        "id": "5LZVr-vxnDKw",
        "outputId": "e8693de9-4700-437a-a11c-f7420b8b5717"
      },
      "source": [
        "# 내 코드\n",
        "\n",
        "stock = {}\n",
        "\n",
        "#=====================================================\n",
        "# 1단계. 유저에게 딕셔너리 입력하게 하기\n",
        "while True:\n",
        "    product = input('물건이름: ')\n",
        "    if product =='':\n",
        "        break\n",
        "        # 아무것도 입력하지 않고 공백으로 엔터만 치면, 반복문이 끝나게 해주는 조건문.\n",
        "    amount = int(input('개수: '))\n",
        "    stock[product] = amount\n",
        "print('재고: ', stock)\n",
        "\n",
        "#=====================================================\n",
        "# 2단계. 물건 이름이 존재하지 않으면 추가, 존재하면 물건 개수 더하기\n",
        "while True:\n",
        "    procut = input('물건이름: ')\n",
        "    \n",
        "    if product == '' : \n",
        "        break\n",
        "    \n",
        "    num = int(input('num: '))\n",
        "    \n",
        "    if product in stock.keys():\n",
        "        stock[product] += amount\n",
        "    else: \n",
        "        stock[product] = amount\n",
        "    \n",
        "print(stock)\n",
        "\n",
        "#=====================================================\n",
        "# 3단계. 오름차순 정렬\n",
        "\n",
        "for key,value in sorted(stock.items()):\n",
        "    print(key, value, end = ' ')\n"
      ],
      "execution_count": null,
      "outputs": [
        {
          "output_type": "stream",
          "text": [
            "물건이름: ㅁ\n",
            "개수: 2\n",
            "물건이름: ㄱ\n",
            "개수: 30\n",
            "물건이름: \n",
            "재고:  {'ㅁ': 2, 'ㄱ': 30}\n",
            "물건이름: ㅁ\n",
            "{'ㅁ': 2, 'ㄱ': 30}\n",
            "ㄱ 30 ㅁ 2 "
          ],
          "name": "stdout"
        }
      ]
    },
    {
      "cell_type": "code",
      "metadata": {
        "colab": {
          "base_uri": "https://localhost:8080/"
        },
        "id": "vjVYniw8rNMQ",
        "outputId": "c4ffa9e5-ad7c-4912-abd7-ebbe62c6091c"
      },
      "source": [
        "stock = {}\n",
        "# 초기화 및 변수명 점검하니까 잘됨.\n",
        "\n",
        "product = ''\n",
        "num = 0\n",
        "\n",
        "#=====================================================\n",
        "# 1단계. 물건 이름이 존재하지 않으면 추가, 존재하면 물건 개수 더하기\n",
        "while True:\n",
        "    product = input('물건이름: ')\n",
        "    \n",
        "    if product == '' : \n",
        "        break\n",
        "    \n",
        "    num = int(input('num: '))\n",
        "    \n",
        "    if product in stock.keys():\n",
        "        stock[product] += num\n",
        "    else: \n",
        "        stock[product] = num\n",
        "    \n",
        "print(stock)\n",
        "\n",
        "#=====================================================\n",
        "# 2단계. 오름차순 정렬\n",
        "\n",
        "for key,value in sorted(stock.items()):\n",
        "    print(key, value, end = ' ')"
      ],
      "execution_count": null,
      "outputs": [
        {
          "output_type": "stream",
          "text": [
            "물건이름: ㄱㄱ\n",
            "num: 5\n",
            "물건이름: -3\n",
            "num: -3\n",
            "물건이름: ㄱㄱ\n",
            "num: -3\n",
            "물건이름: -3\n",
            "num: 60\n",
            "물건이름: \n",
            "{'ㄱㄱ': 2, '-3': 57}\n",
            "-3 57 ㄱㄱ 2 "
          ],
          "name": "stdout"
        }
      ]
    },
    {
      "cell_type": "code",
      "metadata": {
        "id": "8CBfhNPtoTnK"
      },
      "source": [
        ""
      ],
      "execution_count": null,
      "outputs": []
    },
    {
      "cell_type": "markdown",
      "metadata": {
        "id": "zykmHgj_nNB3"
      },
      "source": [
        "## 예제2. "
      ]
    },
    {
      "cell_type": "code",
      "metadata": {
        "id": "zaMNrmqjm-ZX"
      },
      "source": [
        ""
      ],
      "execution_count": null,
      "outputs": []
    },
    {
      "cell_type": "markdown",
      "metadata": {
        "id": "gJDTCyVvnD0Y"
      },
      "source": [
        "# ※ 심화, 질문"
      ]
    }
  ]
}